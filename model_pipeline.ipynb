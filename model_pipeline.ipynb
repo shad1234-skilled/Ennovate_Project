{
 "cells": [
  {
   "cell_type": "code",
   "execution_count": 1,
   "id": "55ed2477",
   "metadata": {},
   "outputs": [],
   "source": [
    "import pickle\n",
    "import pandas as pd\n",
    "import numpy as np\n",
    "import json"
   ]
  },
  {
   "cell_type": "code",
   "execution_count": 2,
   "id": "1c24e263",
   "metadata": {},
   "outputs": [],
   "source": [
    "def load_saved_columns(json_path='columns.json'):\n",
    "    with open(json_path, 'r') as f:\n",
    "        data = json.load(f)\n",
    "    return data['data_columns']\n",
    "\n",
    "def load_model(model_path='lr_model.pickle'):\n",
    "    with open(model_path, 'rb') as f:\n",
    "        model = pickle.load(f)\n",
    "    return model\n",
    "\n",
    "def predict_price(model,location,sqft,bath,bhk,data_columns):    \n",
    "    \n",
    "    x = np.zeros(len(data_columns))\n",
    "    x[data_columns.index('total_sqft')] = sqft\n",
    "    x[data_columns.index('bath')] = bath\n",
    "    x[data_columns.index('bhk')] = bhk\n",
    "    loc_index = data_columns.index(location) if location in data_columns else -1\n",
    "        \n",
    "    x_df = pd.DataFrame([x], columns=data_columns)\n",
    "\n",
    "    return model.predict(x_df)[0]"
   ]
  },
  {
   "cell_type": "code",
   "execution_count": null,
   "id": "a14d1078",
   "metadata": {},
   "outputs": [],
   "source": []
  }
 ],
 "metadata": {
  "kernelspec": {
   "display_name": "Python 3 (ipykernel)",
   "language": "python",
   "name": "python3"
  },
  "language_info": {
   "codemirror_mode": {
    "name": "ipython",
    "version": 3
   },
   "file_extension": ".py",
   "mimetype": "text/x-python",
   "name": "python",
   "nbconvert_exporter": "python",
   "pygments_lexer": "ipython3",
   "version": "3.9.13"
  }
 },
 "nbformat": 4,
 "nbformat_minor": 5
}
