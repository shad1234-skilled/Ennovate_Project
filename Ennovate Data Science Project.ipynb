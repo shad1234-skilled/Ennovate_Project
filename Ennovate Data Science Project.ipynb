{
 "cells": [
  {
   "cell_type": "markdown",
   "id": "d44e5170",
   "metadata": {},
   "source": [
    "   # Ennovate Project - Pune House Price Prediction Model"
   ]
  },
  {
   "cell_type": "markdown",
   "id": "5b12cd33",
   "metadata": {},
   "source": [
    "Welcome to this project on housing price prediction model for properties in Pune, aimed at developing a model from scratch without using Transfer Learning or Pre-Trained models. This project handles a housing price prediction problem.Testing the model. We will start the project by importing necessary libraries."
   ]
  },
  {
   "cell_type": "markdown",
   "id": "e32cbd6d",
   "metadata": {},
   "source": [
    "## Step 1: Insllation and setup"
   ]
  },
  {
   "cell_type": "code",
   "execution_count": 1,
   "id": "74374b11",
   "metadata": {},
   "outputs": [],
   "source": [
    "import matplotlib.pyplot as plt       # used to plot graphs and data visualization\n",
    "import seaborn as sns                       # Library for Data Visualization\n",
    "\n",
    "import pandas as pd                   # for Data manipulation and analysis\n",
    "import numpy as np                    # for performing Numerical operations on arrays\n",
    "\n",
    "import sqlite3                        # Libraries for database interaction\n",
    "from sqlalchemy import create_engine  # Libraries for database interaction\n",
    "\n",
    "from sklearn.model_selection import train_test_split, cross_val_score\n",
    "\n",
    "# above libraries are imported to split the data into training and test, calculating cross-validation score\n",
    "\n",
    "from sklearn.linear_model import LinearRegression       # library for building Linear Regression Model\n",
    "\n",
    "import pickle, json                   # libraries for object serialization and deserialization"
   ]
  },
  {
   "cell_type": "markdown",
   "id": "8eff2b10",
   "metadata": {},
   "source": [
    "## Step 2: Pipeline Creation\n",
    "This pipeline will ingest dataset, performs validation and transformation on dataset, and will finally store the dataset.\n",
    "\n",
    "1. upload the dataset.\n",
    "2. Checking dataset for null values.\n",
    "3. Checking datatype of each column in dataset.\n",
    "4. converting the location names to lower case\n",
    "5. storing the data in sql database.\n",
    "6. running the pipeline"
   ]
  },
  {
   "cell_type": "code",
   "execution_count": 2,
   "id": "8e84a26c",
   "metadata": {},
   "outputs": [],
   "source": [
    "def ingest_data(file_path):\n",
    "    df = pd.read_csv(file_path)  # Load raw data from a CSV file\n",
    "    print(\"\\n1. Dataset is uploaded succcesfully. \\n\")\n",
    "    return df\n",
    "\n",
    "def validate_and_transform(df):\n",
    "    # Data validation: Check for missing values\n",
    "\n",
    "    print(\"2. Null values in each column are:\")\n",
    "    print(df.isnull().sum())\n",
    "    return df\n",
    "\n",
    "def data_type(df):\n",
    "    print(\"\\n3. Data type for each column is listed below:\")\n",
    "    print(df.dtypes.to_string())\n",
    "    return df\n",
    "\n",
    "def lower_location(df):\n",
    "    df['location'] = df['site_location'].str.lower()\n",
    "    df = df.drop(columns=['site_location'])\n",
    "    print(\"\\n4. Column name is updated from site_location to location and location names are updated to lower case.\")\n",
    "    return df\n",
    "\n",
    "# def store_data(df, ennovate_db='data_pipeline.db'):\n",
    "#     df['size'] = df['size'].fillna('0 BHK')\n",
    "#     df['bhk'] = df['size'].apply(lambda x: int(x.split(' ')[0]))\n",
    "#     print(\"\\n5. bhk column created based on size column.\")\n",
    "#     \n",
    "#     # Establish SQL database connection\n",
    "#     \n",
    "#     engine = create_engine(f'sqlite:///{ennovate_db}')\n",
    "\n",
    "#     # Store data in a table called 'processed_data'\n",
    "#     df.to_sql('data', con=engine, if_exists='replace', index=False)\n",
    "#     print(\"\\n6. Dataset is stored to SQL database successfully. \\n\")\n",
    "    \n",
    "    \n",
    "def run_pipeline(file_path):\n",
    "    \n",
    "    # Ingest raw data\n",
    "    df = ingest_data(file_path)\n",
    "\n",
    "    # Validate and transform data\n",
    "    df = validate_and_transform(df)\n",
    "\n",
    "    df = data_type(df)\n",
    "\n",
    "    df = lower_location(df)\n",
    "    \n",
    "    #model = load_model(model_path)\n",
    "\n",
    "    # Store data in SQL database\n",
    "    # store_data(df)\n",
    "    \n",
    "    global df8\n",
    "    print(\"\\n5. Using preprocessed df8 DataFrame to store data.\\n\")\n",
    "    \n",
    "    return df"
   ]
  },
  {
   "cell_type": "code",
   "execution_count": 3,
   "id": "a6672f08",
   "metadata": {},
   "outputs": [
    {
     "name": "stdout",
     "output_type": "stream",
     "text": [
      "\n",
      "1. Dataset is uploaded succcesfully. \n",
      "\n",
      "2. Null values in each column are:\n",
      "area_type           0\n",
      "availability        0\n",
      "size               16\n",
      "society          5502\n",
      "total_sqft          0\n",
      "bath               73\n",
      "balcony           609\n",
      "price               0\n",
      "site_location       1\n",
      "dtype: int64\n",
      "\n",
      "3. Data type for each column is listed below:\n",
      "area_type         object\n",
      "availability      object\n",
      "size              object\n",
      "society           object\n",
      "total_sqft        object\n",
      "bath             float64\n",
      "balcony          float64\n",
      "price            float64\n",
      "site_location     object\n",
      "\n",
      "4. Column name is updated from site_location to location and location names are updated to lower case.\n",
      "\n",
      "5. Using preprocessed df8 DataFrame to store data.\n",
      "\n"
     ]
    }
   ],
   "source": [
    "if __name__ == \"__main__\":\n",
    "    file_path = r\"C:\\Users\\lenovo\\Desktop\\Project\\Ennovate_Test\\pune_house_data.csv\"\n",
    "    df = run_pipeline(file_path)"
   ]
  },
  {
   "cell_type": "code",
   "execution_count": 4,
   "id": "689f7847",
   "metadata": {},
   "outputs": [
    {
     "data": {
      "text/html": [
       "<div>\n",
       "<style scoped>\n",
       "    .dataframe tbody tr th:only-of-type {\n",
       "        vertical-align: middle;\n",
       "    }\n",
       "\n",
       "    .dataframe tbody tr th {\n",
       "        vertical-align: top;\n",
       "    }\n",
       "\n",
       "    .dataframe thead th {\n",
       "        text-align: right;\n",
       "    }\n",
       "</style>\n",
       "<table border=\"1\" class=\"dataframe\">\n",
       "  <thead>\n",
       "    <tr style=\"text-align: right;\">\n",
       "      <th></th>\n",
       "      <th>area_type</th>\n",
       "      <th>availability</th>\n",
       "      <th>size</th>\n",
       "      <th>society</th>\n",
       "      <th>total_sqft</th>\n",
       "      <th>bath</th>\n",
       "      <th>balcony</th>\n",
       "      <th>price</th>\n",
       "      <th>location</th>\n",
       "    </tr>\n",
       "  </thead>\n",
       "  <tbody>\n",
       "    <tr>\n",
       "      <th>0</th>\n",
       "      <td>Super built-up  Area</td>\n",
       "      <td>19-Dec</td>\n",
       "      <td>2 BHK</td>\n",
       "      <td>Coomee</td>\n",
       "      <td>1056</td>\n",
       "      <td>2.0</td>\n",
       "      <td>1.0</td>\n",
       "      <td>39.07</td>\n",
       "      <td>alandi road</td>\n",
       "    </tr>\n",
       "    <tr>\n",
       "      <th>1</th>\n",
       "      <td>Plot  Area</td>\n",
       "      <td>Ready To Move</td>\n",
       "      <td>4 Bedroom</td>\n",
       "      <td>Theanmp</td>\n",
       "      <td>2600</td>\n",
       "      <td>5.0</td>\n",
       "      <td>3.0</td>\n",
       "      <td>120.00</td>\n",
       "      <td>ambegaon budruk</td>\n",
       "    </tr>\n",
       "    <tr>\n",
       "      <th>2</th>\n",
       "      <td>Built-up  Area</td>\n",
       "      <td>Ready To Move</td>\n",
       "      <td>3 BHK</td>\n",
       "      <td>NaN</td>\n",
       "      <td>1440</td>\n",
       "      <td>2.0</td>\n",
       "      <td>3.0</td>\n",
       "      <td>62.00</td>\n",
       "      <td>anandnagar</td>\n",
       "    </tr>\n",
       "    <tr>\n",
       "      <th>3</th>\n",
       "      <td>Super built-up  Area</td>\n",
       "      <td>Ready To Move</td>\n",
       "      <td>3 BHK</td>\n",
       "      <td>Soiewre</td>\n",
       "      <td>1521</td>\n",
       "      <td>3.0</td>\n",
       "      <td>1.0</td>\n",
       "      <td>95.00</td>\n",
       "      <td>aundh</td>\n",
       "    </tr>\n",
       "    <tr>\n",
       "      <th>4</th>\n",
       "      <td>Super built-up  Area</td>\n",
       "      <td>Ready To Move</td>\n",
       "      <td>2 BHK</td>\n",
       "      <td>NaN</td>\n",
       "      <td>1200</td>\n",
       "      <td>2.0</td>\n",
       "      <td>1.0</td>\n",
       "      <td>51.00</td>\n",
       "      <td>aundh road</td>\n",
       "    </tr>\n",
       "  </tbody>\n",
       "</table>\n",
       "</div>"
      ],
      "text/plain": [
       "              area_type   availability       size  society total_sqft  bath  \\\n",
       "0  Super built-up  Area         19-Dec      2 BHK  Coomee        1056   2.0   \n",
       "1            Plot  Area  Ready To Move  4 Bedroom  Theanmp       2600   5.0   \n",
       "2        Built-up  Area  Ready To Move      3 BHK      NaN       1440   2.0   \n",
       "3  Super built-up  Area  Ready To Move      3 BHK  Soiewre       1521   3.0   \n",
       "4  Super built-up  Area  Ready To Move      2 BHK      NaN       1200   2.0   \n",
       "\n",
       "   balcony   price         location  \n",
       "0      1.0   39.07      alandi road  \n",
       "1      3.0  120.00  ambegaon budruk  \n",
       "2      3.0   62.00       anandnagar  \n",
       "3      1.0   95.00            aundh  \n",
       "4      1.0   51.00       aundh road  "
      ]
     },
     "execution_count": 4,
     "metadata": {},
     "output_type": "execute_result"
    }
   ],
   "source": [
    "df.head()"
   ]
  },
  {
   "cell_type": "markdown",
   "id": "4c1c85de",
   "metadata": {},
   "source": [
    "## Step 3: Data Preprocessing and Cleaning"
   ]
  },
  {
   "cell_type": "markdown",
   "id": "19590aee",
   "metadata": {},
   "source": [
    "#### Step 3.1 \n",
    "\n",
    "Checking the shape of dataset"
   ]
  },
  {
   "cell_type": "code",
   "execution_count": 5,
   "id": "75c94bd6",
   "metadata": {},
   "outputs": [
    {
     "data": {
      "text/html": [
       "<div>\n",
       "<style scoped>\n",
       "    .dataframe tbody tr th:only-of-type {\n",
       "        vertical-align: middle;\n",
       "    }\n",
       "\n",
       "    .dataframe tbody tr th {\n",
       "        vertical-align: top;\n",
       "    }\n",
       "\n",
       "    .dataframe thead th {\n",
       "        text-align: right;\n",
       "    }\n",
       "</style>\n",
       "<table border=\"1\" class=\"dataframe\">\n",
       "  <thead>\n",
       "    <tr style=\"text-align: right;\">\n",
       "      <th></th>\n",
       "      <th>area_type</th>\n",
       "      <th>availability</th>\n",
       "      <th>size</th>\n",
       "      <th>society</th>\n",
       "      <th>total_sqft</th>\n",
       "      <th>bath</th>\n",
       "      <th>balcony</th>\n",
       "      <th>price</th>\n",
       "      <th>location</th>\n",
       "    </tr>\n",
       "  </thead>\n",
       "  <tbody>\n",
       "    <tr>\n",
       "      <th>0</th>\n",
       "      <td>Super built-up  Area</td>\n",
       "      <td>19-Dec</td>\n",
       "      <td>2 BHK</td>\n",
       "      <td>Coomee</td>\n",
       "      <td>1056</td>\n",
       "      <td>2.0</td>\n",
       "      <td>1.0</td>\n",
       "      <td>39.07</td>\n",
       "      <td>alandi road</td>\n",
       "    </tr>\n",
       "    <tr>\n",
       "      <th>1</th>\n",
       "      <td>Plot  Area</td>\n",
       "      <td>Ready To Move</td>\n",
       "      <td>4 Bedroom</td>\n",
       "      <td>Theanmp</td>\n",
       "      <td>2600</td>\n",
       "      <td>5.0</td>\n",
       "      <td>3.0</td>\n",
       "      <td>120.00</td>\n",
       "      <td>ambegaon budruk</td>\n",
       "    </tr>\n",
       "    <tr>\n",
       "      <th>2</th>\n",
       "      <td>Built-up  Area</td>\n",
       "      <td>Ready To Move</td>\n",
       "      <td>3 BHK</td>\n",
       "      <td>NaN</td>\n",
       "      <td>1440</td>\n",
       "      <td>2.0</td>\n",
       "      <td>3.0</td>\n",
       "      <td>62.00</td>\n",
       "      <td>anandnagar</td>\n",
       "    </tr>\n",
       "    <tr>\n",
       "      <th>3</th>\n",
       "      <td>Super built-up  Area</td>\n",
       "      <td>Ready To Move</td>\n",
       "      <td>3 BHK</td>\n",
       "      <td>Soiewre</td>\n",
       "      <td>1521</td>\n",
       "      <td>3.0</td>\n",
       "      <td>1.0</td>\n",
       "      <td>95.00</td>\n",
       "      <td>aundh</td>\n",
       "    </tr>\n",
       "    <tr>\n",
       "      <th>4</th>\n",
       "      <td>Super built-up  Area</td>\n",
       "      <td>Ready To Move</td>\n",
       "      <td>2 BHK</td>\n",
       "      <td>NaN</td>\n",
       "      <td>1200</td>\n",
       "      <td>2.0</td>\n",
       "      <td>1.0</td>\n",
       "      <td>51.00</td>\n",
       "      <td>aundh road</td>\n",
       "    </tr>\n",
       "  </tbody>\n",
       "</table>\n",
       "</div>"
      ],
      "text/plain": [
       "              area_type   availability       size  society total_sqft  bath  \\\n",
       "0  Super built-up  Area         19-Dec      2 BHK  Coomee        1056   2.0   \n",
       "1            Plot  Area  Ready To Move  4 Bedroom  Theanmp       2600   5.0   \n",
       "2        Built-up  Area  Ready To Move      3 BHK      NaN       1440   2.0   \n",
       "3  Super built-up  Area  Ready To Move      3 BHK  Soiewre       1521   3.0   \n",
       "4  Super built-up  Area  Ready To Move      2 BHK      NaN       1200   2.0   \n",
       "\n",
       "   balcony   price         location  \n",
       "0      1.0   39.07      alandi road  \n",
       "1      3.0  120.00  ambegaon budruk  \n",
       "2      3.0   62.00       anandnagar  \n",
       "3      1.0   95.00            aundh  \n",
       "4      1.0   51.00       aundh road  "
      ]
     },
     "execution_count": 5,
     "metadata": {},
     "output_type": "execute_result"
    }
   ],
   "source": [
    "df.head(5)"
   ]
  },
  {
   "cell_type": "code",
   "execution_count": 6,
   "id": "0bb08b51",
   "metadata": {},
   "outputs": [
    {
     "data": {
      "text/plain": [
       "(13320, 9)"
      ]
     },
     "execution_count": 6,
     "metadata": {},
     "output_type": "execute_result"
    }
   ],
   "source": [
    "df.shape"
   ]
  },
  {
   "cell_type": "markdown",
   "id": "5c6fd367",
   "metadata": {},
   "source": [
    "#### Step 3.2 \n",
    "\n",
    "we will now check the values of \"area_type\" column"
   ]
  },
  {
   "cell_type": "code",
   "execution_count": 7,
   "id": "60c03089",
   "metadata": {},
   "outputs": [
    {
     "data": {
      "text/plain": [
       "Super built-up  Area    8790\n",
       "Built-up  Area          2418\n",
       "Plot  Area              2025\n",
       "Carpet  Area              87\n",
       "Name: area_type, dtype: int64"
      ]
     },
     "execution_count": 7,
     "metadata": {},
     "output_type": "execute_result"
    }
   ],
   "source": [
    "df['area_type'].value_counts()"
   ]
  },
  {
   "cell_type": "markdown",
   "id": "860d890e",
   "metadata": {},
   "source": [
    "#### Step 3.3 \n",
    "\n",
    "Based on our domain knowledge we can say that features like area_type, availability, society and balcony are not important in determining property price and we can safely excelude or delete these features from our dataset."
   ]
  },
  {
   "cell_type": "code",
   "execution_count": 8,
   "id": "9804b1cc",
   "metadata": {},
   "outputs": [
    {
     "data": {
      "text/plain": [
       "(13320, 5)"
      ]
     },
     "execution_count": 8,
     "metadata": {},
     "output_type": "execute_result"
    }
   ],
   "source": [
    "df1 = df.drop(['area_type','society','balcony','availability'],axis='columns')\n",
    "df1.shape"
   ]
  },
  {
   "cell_type": "markdown",
   "id": "6640339e",
   "metadata": {},
   "source": [
    "#### Step 3.4 \n",
    "\n",
    "Through our pipeline we know that some of the features have null values, we will handle them before moving ahead."
   ]
  },
  {
   "cell_type": "code",
   "execution_count": 9,
   "id": "34cddf03",
   "metadata": {},
   "outputs": [
    {
     "data": {
      "text/plain": [
       "size          16\n",
       "total_sqft     0\n",
       "bath          73\n",
       "price          0\n",
       "location       1\n",
       "dtype: int64"
      ]
     },
     "execution_count": 9,
     "metadata": {},
     "output_type": "execute_result"
    }
   ],
   "source": [
    "df1.isnull().sum()"
   ]
  },
  {
   "cell_type": "markdown",
   "id": "d7b8b7b5",
   "metadata": {},
   "source": [
    "#### Step 3.5 \n",
    "\n",
    "Since, total null values are less than 1% of our dataset, it is safe t remove them before performing feature engineering."
   ]
  },
  {
   "cell_type": "code",
   "execution_count": 10,
   "id": "8e7dbb3c",
   "metadata": {},
   "outputs": [
    {
     "data": {
      "text/plain": [
       "size          0\n",
       "total_sqft    0\n",
       "bath          0\n",
       "price         0\n",
       "location      0\n",
       "dtype: int64"
      ]
     },
     "execution_count": 10,
     "metadata": {},
     "output_type": "execute_result"
    }
   ],
   "source": [
    "df2 = df1.dropna()\n",
    "df2.isnull().sum()"
   ]
  },
  {
   "cell_type": "markdown",
   "id": "8bf0e18d",
   "metadata": {},
   "source": [
    "## Step 4: Feature Engineering\n",
    "\n",
    "We will be adding and removing features from dataset to get a more robust dataset for training"
   ]
  },
  {
   "cell_type": "markdown",
   "id": "b2923dcc",
   "metadata": {},
   "source": [
    "### 4.1 Handling 'size' feature\n",
    "\n",
    "We will first work with column 'size', it has number of bedrooms, however it does not have consistant format, we will correct this."
   ]
  },
  {
   "cell_type": "code",
   "execution_count": 11,
   "id": "fe7c676d",
   "metadata": {},
   "outputs": [
    {
     "data": {
      "text/plain": [
       "array(['2 BHK', '4 Bedroom', '3 BHK', '4 BHK', '6 Bedroom', '3 Bedroom',\n",
       "       '1 BHK', '1 RK', '1 Bedroom', '8 Bedroom', '2 Bedroom',\n",
       "       '7 Bedroom', '5 BHK', '7 BHK', '6 BHK', '5 Bedroom', '11 BHK',\n",
       "       '9 BHK', '9 Bedroom', '27 BHK', '10 Bedroom', '11 Bedroom',\n",
       "       '10 BHK', '19 BHK', '16 BHK', '43 Bedroom', '14 BHK', '8 BHK',\n",
       "       '12 Bedroom', '13 BHK', '18 Bedroom'], dtype=object)"
      ]
     },
     "execution_count": 11,
     "metadata": {},
     "output_type": "execute_result"
    }
   ],
   "source": [
    "df2['size'].unique()"
   ]
  },
  {
   "cell_type": "markdown",
   "id": "5810ef49",
   "metadata": {},
   "source": [
    "#### Step 4.1.1 \n",
    "\n",
    "We can see that this column has some variance in how the number of bedrooms are represented across, however we can take only the integer part and create a new column to represent the rooms.\n",
    "\n",
    "For this we will create a lambda function to use the space as separator and create a new feature to show number of bedrooms"
   ]
  },
  {
   "cell_type": "code",
   "execution_count": 12,
   "id": "cd6c833e",
   "metadata": {},
   "outputs": [],
   "source": [
    "df2 = df2.copy()\n",
    "\n",
    "df2.loc[:,'bhk'] = df2['size'].apply(lambda x: int(x.split(' ')[0]))"
   ]
  },
  {
   "cell_type": "code",
   "execution_count": 13,
   "id": "41d10af8",
   "metadata": {},
   "outputs": [
    {
     "data": {
      "text/plain": [
       "(13246, 6)"
      ]
     },
     "execution_count": 13,
     "metadata": {},
     "output_type": "execute_result"
    }
   ],
   "source": [
    "df2.shape"
   ]
  },
  {
   "cell_type": "markdown",
   "id": "8a2e69b5",
   "metadata": {},
   "source": [
    "### Step 4.2 Handling 'total_sqft' feature"
   ]
  },
  {
   "cell_type": "code",
   "execution_count": 14,
   "id": "58165cc4",
   "metadata": {},
   "outputs": [
    {
     "data": {
      "text/plain": [
       "array(['1056', '2600', '1440', ..., '1133 - 1384', '774', '4689'],\n",
       "      dtype=object)"
      ]
     },
     "execution_count": 14,
     "metadata": {},
     "output_type": "execute_result"
    }
   ],
   "source": [
    "df2['total_sqft'].unique()"
   ]
  },
  {
   "cell_type": "markdown",
   "id": "af2c5472",
   "metadata": {},
   "source": [
    "#### Step 4.2.1 \n",
    "\n",
    "We can see that not all values in 'total_sqft' column is in desired format and from inital pipeline we know that it is of data type 'object' and we need to convert this to numeric column.\n",
    "\n",
    "Below function will performa a validation check on column total_sqft and will try to convert all values in column to float.\n",
    "\n",
    "We will use the function to return the data where column total_sqft do not have float values."
   ]
  },
  {
   "cell_type": "code",
   "execution_count": 15,
   "id": "d0d6ad03",
   "metadata": {},
   "outputs": [
    {
     "data": {
      "text/html": [
       "<div>\n",
       "<style scoped>\n",
       "    .dataframe tbody tr th:only-of-type {\n",
       "        vertical-align: middle;\n",
       "    }\n",
       "\n",
       "    .dataframe tbody tr th {\n",
       "        vertical-align: top;\n",
       "    }\n",
       "\n",
       "    .dataframe thead th {\n",
       "        text-align: right;\n",
       "    }\n",
       "</style>\n",
       "<table border=\"1\" class=\"dataframe\">\n",
       "  <thead>\n",
       "    <tr style=\"text-align: right;\">\n",
       "      <th></th>\n",
       "      <th>size</th>\n",
       "      <th>total_sqft</th>\n",
       "      <th>bath</th>\n",
       "      <th>price</th>\n",
       "      <th>location</th>\n",
       "      <th>bhk</th>\n",
       "    </tr>\n",
       "  </thead>\n",
       "  <tbody>\n",
       "    <tr>\n",
       "      <th>30</th>\n",
       "      <td>4 BHK</td>\n",
       "      <td>2100 - 2850</td>\n",
       "      <td>4.0</td>\n",
       "      <td>186.000</td>\n",
       "      <td>gultekdi</td>\n",
       "      <td>4</td>\n",
       "    </tr>\n",
       "    <tr>\n",
       "      <th>122</th>\n",
       "      <td>4 BHK</td>\n",
       "      <td>3067 - 8156</td>\n",
       "      <td>4.0</td>\n",
       "      <td>477.000</td>\n",
       "      <td>ganeshkhind</td>\n",
       "      <td>4</td>\n",
       "    </tr>\n",
       "    <tr>\n",
       "      <th>137</th>\n",
       "      <td>2 BHK</td>\n",
       "      <td>1042 - 1105</td>\n",
       "      <td>2.0</td>\n",
       "      <td>54.005</td>\n",
       "      <td>khadaki</td>\n",
       "      <td>2</td>\n",
       "    </tr>\n",
       "    <tr>\n",
       "      <th>165</th>\n",
       "      <td>2 BHK</td>\n",
       "      <td>1145 - 1340</td>\n",
       "      <td>2.0</td>\n",
       "      <td>43.490</td>\n",
       "      <td>prabhat road</td>\n",
       "      <td>2</td>\n",
       "    </tr>\n",
       "    <tr>\n",
       "      <th>188</th>\n",
       "      <td>2 BHK</td>\n",
       "      <td>1015 - 1540</td>\n",
       "      <td>2.0</td>\n",
       "      <td>56.800</td>\n",
       "      <td>wakadewadi</td>\n",
       "      <td>2</td>\n",
       "    </tr>\n",
       "    <tr>\n",
       "      <th>...</th>\n",
       "      <td>...</td>\n",
       "      <td>...</td>\n",
       "      <td>...</td>\n",
       "      <td>...</td>\n",
       "      <td>...</td>\n",
       "      <td>...</td>\n",
       "    </tr>\n",
       "    <tr>\n",
       "      <th>12975</th>\n",
       "      <td>2 BHK</td>\n",
       "      <td>850 - 1060</td>\n",
       "      <td>2.0</td>\n",
       "      <td>38.190</td>\n",
       "      <td>camp</td>\n",
       "      <td>2</td>\n",
       "    </tr>\n",
       "    <tr>\n",
       "      <th>12990</th>\n",
       "      <td>3 BHK</td>\n",
       "      <td>1804 - 2273</td>\n",
       "      <td>3.0</td>\n",
       "      <td>122.000</td>\n",
       "      <td>gokhale nagar</td>\n",
       "      <td>3</td>\n",
       "    </tr>\n",
       "    <tr>\n",
       "      <th>13059</th>\n",
       "      <td>2 BHK</td>\n",
       "      <td>1200 - 1470</td>\n",
       "      <td>2.0</td>\n",
       "      <td>72.760</td>\n",
       "      <td>anandnagar</td>\n",
       "      <td>2</td>\n",
       "    </tr>\n",
       "    <tr>\n",
       "      <th>13265</th>\n",
       "      <td>2 BHK</td>\n",
       "      <td>1133 - 1384</td>\n",
       "      <td>2.0</td>\n",
       "      <td>59.135</td>\n",
       "      <td>dapodi</td>\n",
       "      <td>2</td>\n",
       "    </tr>\n",
       "    <tr>\n",
       "      <th>13299</th>\n",
       "      <td>4 BHK</td>\n",
       "      <td>2830 - 2882</td>\n",
       "      <td>5.0</td>\n",
       "      <td>154.500</td>\n",
       "      <td>laxmi road</td>\n",
       "      <td>4</td>\n",
       "    </tr>\n",
       "  </tbody>\n",
       "</table>\n",
       "<p>190 rows × 6 columns</p>\n",
       "</div>"
      ],
      "text/plain": [
       "        size   total_sqft  bath    price       location  bhk\n",
       "30     4 BHK  2100 - 2850   4.0  186.000       gultekdi    4\n",
       "122    4 BHK  3067 - 8156   4.0  477.000    ganeshkhind    4\n",
       "137    2 BHK  1042 - 1105   2.0   54.005        khadaki    2\n",
       "165    2 BHK  1145 - 1340   2.0   43.490   prabhat road    2\n",
       "188    2 BHK  1015 - 1540   2.0   56.800     wakadewadi    2\n",
       "...      ...          ...   ...      ...            ...  ...\n",
       "12975  2 BHK   850 - 1060   2.0   38.190           camp    2\n",
       "12990  3 BHK  1804 - 2273   3.0  122.000  gokhale nagar    3\n",
       "13059  2 BHK  1200 - 1470   2.0   72.760     anandnagar    2\n",
       "13265  2 BHK  1133 - 1384   2.0   59.135         dapodi    2\n",
       "13299  4 BHK  2830 - 2882   5.0  154.500     laxmi road    4\n",
       "\n",
       "[190 rows x 6 columns]"
      ]
     },
     "execution_count": 15,
     "metadata": {},
     "output_type": "execute_result"
    }
   ],
   "source": [
    "def check_float(x):\n",
    "    try:\n",
    "        float(x)\n",
    "    except:\n",
    "        return False\n",
    "    return True\n",
    "\n",
    "df2[~df2['total_sqft'].apply(check_float)]"
   ]
  },
  {
   "cell_type": "markdown",
   "id": "b6fe0e68",
   "metadata": {},
   "source": [
    "#### Step 4.2.2\n",
    "\n",
    "We have the option of tranforming of above data by taking the average of the low and high values of ranges, however, since this is only 1.5% of the total dataset, I will delete them and move ahead with feature engineering."
   ]
  },
  {
   "cell_type": "code",
   "execution_count": 16,
   "id": "5c85db4e",
   "metadata": {},
   "outputs": [],
   "source": [
    "df2.loc[:, 'total_sqft'] = pd.to_numeric(df2['total_sqft'], errors='coerce')\n",
    "\n",
    "df3 = df2.dropna(subset=['total_sqft'])"
   ]
  },
  {
   "cell_type": "code",
   "execution_count": 17,
   "id": "546353c1",
   "metadata": {},
   "outputs": [
    {
     "data": {
      "text/plain": [
       "(13056, 6)"
      ]
     },
     "execution_count": 17,
     "metadata": {},
     "output_type": "execute_result"
    }
   ],
   "source": [
    "df3.shape"
   ]
  },
  {
   "cell_type": "markdown",
   "id": "fdf6d55e",
   "metadata": {},
   "source": [
    "#### Step 4.2.3\n",
    "\n",
    "with our domain knowledge we know that on normal sqft per bedroom ranges from 300-400 sqft we can consider anything below 250 sqft as an outlier and remove it"
   ]
  },
  {
   "cell_type": "code",
   "execution_count": 18,
   "id": "f5e52ab3",
   "metadata": {},
   "outputs": [
    {
     "data": {
      "text/html": [
       "<div>\n",
       "<style scoped>\n",
       "    .dataframe tbody tr th:only-of-type {\n",
       "        vertical-align: middle;\n",
       "    }\n",
       "\n",
       "    .dataframe tbody tr th {\n",
       "        vertical-align: top;\n",
       "    }\n",
       "\n",
       "    .dataframe thead th {\n",
       "        text-align: right;\n",
       "    }\n",
       "</style>\n",
       "<table border=\"1\" class=\"dataframe\">\n",
       "  <thead>\n",
       "    <tr style=\"text-align: right;\">\n",
       "      <th></th>\n",
       "      <th>size</th>\n",
       "      <th>total_sqft</th>\n",
       "      <th>bath</th>\n",
       "      <th>price</th>\n",
       "      <th>location</th>\n",
       "      <th>bhk</th>\n",
       "    </tr>\n",
       "  </thead>\n",
       "  <tbody>\n",
       "    <tr>\n",
       "      <th>9</th>\n",
       "      <td>6 Bedroom</td>\n",
       "      <td>1020.0</td>\n",
       "      <td>6.0</td>\n",
       "      <td>370.0</td>\n",
       "      <td>bhavani peth</td>\n",
       "      <td>6</td>\n",
       "    </tr>\n",
       "    <tr>\n",
       "      <th>45</th>\n",
       "      <td>8 Bedroom</td>\n",
       "      <td>600.0</td>\n",
       "      <td>9.0</td>\n",
       "      <td>200.0</td>\n",
       "      <td>kondhwa budruk</td>\n",
       "      <td>8</td>\n",
       "    </tr>\n",
       "    <tr>\n",
       "      <th>58</th>\n",
       "      <td>6 Bedroom</td>\n",
       "      <td>1407.0</td>\n",
       "      <td>4.0</td>\n",
       "      <td>150.0</td>\n",
       "      <td>mundhawa</td>\n",
       "      <td>6</td>\n",
       "    </tr>\n",
       "    <tr>\n",
       "      <th>68</th>\n",
       "      <td>8 Bedroom</td>\n",
       "      <td>1350.0</td>\n",
       "      <td>7.0</td>\n",
       "      <td>85.0</td>\n",
       "      <td>pirangut</td>\n",
       "      <td>8</td>\n",
       "    </tr>\n",
       "    <tr>\n",
       "      <th>70</th>\n",
       "      <td>3 Bedroom</td>\n",
       "      <td>500.0</td>\n",
       "      <td>3.0</td>\n",
       "      <td>100.0</td>\n",
       "      <td>pune railway station</td>\n",
       "      <td>3</td>\n",
       "    </tr>\n",
       "    <tr>\n",
       "      <th>...</th>\n",
       "      <td>...</td>\n",
       "      <td>...</td>\n",
       "      <td>...</td>\n",
       "      <td>...</td>\n",
       "      <td>...</td>\n",
       "      <td>...</td>\n",
       "    </tr>\n",
       "    <tr>\n",
       "      <th>13221</th>\n",
       "      <td>9 Bedroom</td>\n",
       "      <td>1178.0</td>\n",
       "      <td>9.0</td>\n",
       "      <td>75.0</td>\n",
       "      <td>pirangut</td>\n",
       "      <td>9</td>\n",
       "    </tr>\n",
       "    <tr>\n",
       "      <th>13277</th>\n",
       "      <td>7 Bedroom</td>\n",
       "      <td>1400.0</td>\n",
       "      <td>7.0</td>\n",
       "      <td>218.0</td>\n",
       "      <td>ghorpadi</td>\n",
       "      <td>7</td>\n",
       "    </tr>\n",
       "    <tr>\n",
       "      <th>13279</th>\n",
       "      <td>6 Bedroom</td>\n",
       "      <td>1200.0</td>\n",
       "      <td>5.0</td>\n",
       "      <td>130.0</td>\n",
       "      <td>gultekdi</td>\n",
       "      <td>6</td>\n",
       "    </tr>\n",
       "    <tr>\n",
       "      <th>13303</th>\n",
       "      <td>5 Bedroom</td>\n",
       "      <td>774.0</td>\n",
       "      <td>5.0</td>\n",
       "      <td>70.0</td>\n",
       "      <td>manik bagh</td>\n",
       "      <td>5</td>\n",
       "    </tr>\n",
       "    <tr>\n",
       "      <th>13311</th>\n",
       "      <td>7 Bedroom</td>\n",
       "      <td>1500.0</td>\n",
       "      <td>9.0</td>\n",
       "      <td>250.0</td>\n",
       "      <td>narayangaon</td>\n",
       "      <td>7</td>\n",
       "    </tr>\n",
       "  </tbody>\n",
       "</table>\n",
       "<p>612 rows × 6 columns</p>\n",
       "</div>"
      ],
      "text/plain": [
       "            size  total_sqft  bath  price              location  bhk\n",
       "9      6 Bedroom      1020.0   6.0  370.0          bhavani peth    6\n",
       "45     8 Bedroom       600.0   9.0  200.0        kondhwa budruk    8\n",
       "58     6 Bedroom      1407.0   4.0  150.0              mundhawa    6\n",
       "68     8 Bedroom      1350.0   7.0   85.0              pirangut    8\n",
       "70     3 Bedroom       500.0   3.0  100.0  pune railway station    3\n",
       "...          ...         ...   ...    ...                   ...  ...\n",
       "13221  9 Bedroom      1178.0   9.0   75.0              pirangut    9\n",
       "13277  7 Bedroom      1400.0   7.0  218.0              ghorpadi    7\n",
       "13279  6 Bedroom      1200.0   5.0  130.0              gultekdi    6\n",
       "13303  5 Bedroom       774.0   5.0   70.0            manik bagh    5\n",
       "13311  7 Bedroom      1500.0   9.0  250.0           narayangaon    7\n",
       "\n",
       "[612 rows x 6 columns]"
      ]
     },
     "execution_count": 18,
     "metadata": {},
     "output_type": "execute_result"
    }
   ],
   "source": [
    "df3[(df3.total_sqft/df3.bhk) < 250]"
   ]
  },
  {
   "cell_type": "code",
   "execution_count": 19,
   "id": "644b1fbf",
   "metadata": {},
   "outputs": [
    {
     "data": {
      "text/plain": [
       "(12444, 6)"
      ]
     },
     "execution_count": 19,
     "metadata": {},
     "output_type": "execute_result"
    }
   ],
   "source": [
    "df4 = df3[~((df3.total_sqft/df3.bhk) < 250)]\n",
    "df4.shape"
   ]
  },
  {
   "cell_type": "markdown",
   "id": "ad4c27ad",
   "metadata": {},
   "source": [
    "### Step 4.3 Handling 'location' feature"
   ]
  },
  {
   "cell_type": "markdown",
   "id": "92b06242",
   "metadata": {},
   "source": [
    "#### Step 4.3.1\n",
    "\n",
    "We will check how many locations we have and check the count for each location"
   ]
  },
  {
   "cell_type": "code",
   "execution_count": 20,
   "id": "528b21b5",
   "metadata": {},
   "outputs": [
    {
     "data": {
      "text/plain": [
       "array(['alandi road', 'ambegaon budruk', 'anandnagar', 'aundh',\n",
       "       'aundh road', 'balaji nagar', 'baner', 'baner road',\n",
       "       'bhandarkar road', 'bibvewadi', 'bopodi', 'budhwar peth',\n",
       "       'bund garden road', 'camp', 'chandan nagar', 'dapodi',\n",
       "       'deccan gymkhana', 'dehu road', 'dhankawadi', 'dhayari phata',\n",
       "       'dhole patil road', 'erandwane', 'fatima nagar',\n",
       "       'fergusson college road', 'ganesh peth', 'ganeshkhind',\n",
       "       'ghorpade peth', 'other', 'gokhale nagar', 'guruwar peth',\n",
       "       'hadapsar', 'hadapsar industrial estate', 'hingne khurd',\n",
       "       'jangali maharaj road', 'kalyani nagar', 'karve nagar',\n",
       "       'karve road', 'kasba peth', 'katraj', 'khadaki', 'khadki',\n",
       "       'kharadi', 'kondhwa', 'kondhwa khurd', 'koregaon park', 'kothrud',\n",
       "       'law college road', 'laxmi road', 'lulla nagar',\n",
       "       'mahatma gandhi road', 'mangalwar peth', 'manik bagh',\n",
       "       'market yard', 'mukund nagar', 'nagar road', 'nana peth',\n",
       "       'narayan peth', 'narayangaon', 'navi peth', 'padmavati',\n",
       "       'parvati darshan', 'pashan', 'paud road', 'prabhat road',\n",
       "       'rasta peth', 'raviwar peth', 'sadashiv peth', 'sahakar nagar',\n",
       "       'salunke vihar', 'sasson road', 'satara road', 'shaniwar peth',\n",
       "       'shivaji nagar', 'sinhagad road', 'somwar peth', 'swargate',\n",
       "       'tilak road', 'uruli devachi', 'vadgaon budruk', 'wadgaon sheri',\n",
       "       'vishrant wadi', 'wagholi', 'wakadewadi', 'wanowrie', 'warje',\n",
       "       'yerawada', 'bhavani peth', 'ghorpadi', 'gultekdi',\n",
       "       'kondhwa budruk', 'model colony', 'mundhawa', 'pirangut',\n",
       "       'pune railway station', 'senapati bapat road', 'shukrawar peth',\n",
       "       'viman nagar'], dtype=object)"
      ]
     },
     "execution_count": 20,
     "metadata": {},
     "output_type": "execute_result"
    }
   ],
   "source": [
    "df4['location'].unique()"
   ]
  },
  {
   "cell_type": "code",
   "execution_count": 21,
   "id": "86cf47f7",
   "metadata": {},
   "outputs": [
    {
     "data": {
      "text/plain": [
       "97"
      ]
     },
     "execution_count": 21,
     "metadata": {},
     "output_type": "execute_result"
    }
   ],
   "source": [
    "len(df2['location'].unique())"
   ]
  },
  {
   "cell_type": "markdown",
   "id": "03fe0a0e",
   "metadata": {},
   "source": [
    "#### Step 4.3.2\n",
    "\n",
    "Counting the number of samples for each location"
   ]
  },
  {
   "cell_type": "code",
   "execution_count": 22,
   "id": "8b9d64a2",
   "metadata": {},
   "outputs": [],
   "source": [
    "location_count = df4.groupby('location')['location'].agg('count')"
   ]
  },
  {
   "cell_type": "code",
   "execution_count": 23,
   "id": "e051d4ed",
   "metadata": {},
   "outputs": [
    {
     "data": {
      "text/plain": [
       "location\n",
       "koregaon park       135\n",
       "alandi road         134\n",
       "bund garden road    134\n",
       "sadashiv peth       134\n",
       "paud road           134\n",
       "                   ... \n",
       "gultekdi            125\n",
       "kasba peth          125\n",
       "pashan              124\n",
       "salunke vihar       124\n",
       "other                 1\n",
       "Name: location, Length: 97, dtype: int64"
      ]
     },
     "execution_count": 23,
     "metadata": {},
     "output_type": "execute_result"
    }
   ],
   "source": [
    "location_count.sort_values(ascending=False)"
   ]
  },
  {
   "cell_type": "markdown",
   "id": "0d926dda",
   "metadata": {},
   "source": [
    "#### Step 4.3.3\n",
    "\n",
    "Removing 'other' location sample as it is only 1."
   ]
  },
  {
   "cell_type": "code",
   "execution_count": 24,
   "id": "d166d7d0",
   "metadata": {},
   "outputs": [
    {
     "data": {
      "text/plain": [
       "96"
      ]
     },
     "execution_count": 24,
     "metadata": {},
     "output_type": "execute_result"
    }
   ],
   "source": [
    "df4 = df4[df4['location'] != 'other']\n",
    "\n",
    "len(df4.location.unique())"
   ]
  },
  {
   "cell_type": "code",
   "execution_count": 25,
   "id": "19306b45",
   "metadata": {},
   "outputs": [
    {
     "data": {
      "text/plain": [
       "(12443, 6)"
      ]
     },
     "execution_count": 25,
     "metadata": {},
     "output_type": "execute_result"
    }
   ],
   "source": [
    "df4.shape"
   ]
  },
  {
   "cell_type": "code",
   "execution_count": 26,
   "id": "e44d86ad",
   "metadata": {},
   "outputs": [
    {
     "data": {
      "text/html": [
       "<div>\n",
       "<style scoped>\n",
       "    .dataframe tbody tr th:only-of-type {\n",
       "        vertical-align: middle;\n",
       "    }\n",
       "\n",
       "    .dataframe tbody tr th {\n",
       "        vertical-align: top;\n",
       "    }\n",
       "\n",
       "    .dataframe thead th {\n",
       "        text-align: right;\n",
       "    }\n",
       "</style>\n",
       "<table border=\"1\" class=\"dataframe\">\n",
       "  <thead>\n",
       "    <tr style=\"text-align: right;\">\n",
       "      <th></th>\n",
       "      <th>size</th>\n",
       "      <th>total_sqft</th>\n",
       "      <th>bath</th>\n",
       "      <th>price</th>\n",
       "      <th>location</th>\n",
       "      <th>bhk</th>\n",
       "    </tr>\n",
       "  </thead>\n",
       "  <tbody>\n",
       "    <tr>\n",
       "      <th>0</th>\n",
       "      <td>2 BHK</td>\n",
       "      <td>1056.0</td>\n",
       "      <td>2.0</td>\n",
       "      <td>39.07</td>\n",
       "      <td>alandi road</td>\n",
       "      <td>2</td>\n",
       "    </tr>\n",
       "    <tr>\n",
       "      <th>1</th>\n",
       "      <td>4 Bedroom</td>\n",
       "      <td>2600.0</td>\n",
       "      <td>5.0</td>\n",
       "      <td>120.00</td>\n",
       "      <td>ambegaon budruk</td>\n",
       "      <td>4</td>\n",
       "    </tr>\n",
       "    <tr>\n",
       "      <th>2</th>\n",
       "      <td>3 BHK</td>\n",
       "      <td>1440.0</td>\n",
       "      <td>2.0</td>\n",
       "      <td>62.00</td>\n",
       "      <td>anandnagar</td>\n",
       "      <td>3</td>\n",
       "    </tr>\n",
       "    <tr>\n",
       "      <th>3</th>\n",
       "      <td>3 BHK</td>\n",
       "      <td>1521.0</td>\n",
       "      <td>3.0</td>\n",
       "      <td>95.00</td>\n",
       "      <td>aundh</td>\n",
       "      <td>3</td>\n",
       "    </tr>\n",
       "  </tbody>\n",
       "</table>\n",
       "</div>"
      ],
      "text/plain": [
       "        size  total_sqft  bath   price         location  bhk\n",
       "0      2 BHK      1056.0   2.0   39.07      alandi road    2\n",
       "1  4 Bedroom      2600.0   5.0  120.00  ambegaon budruk    4\n",
       "2      3 BHK      1440.0   2.0   62.00       anandnagar    3\n",
       "3      3 BHK      1521.0   3.0   95.00            aundh    3"
      ]
     },
     "execution_count": 26,
     "metadata": {},
     "output_type": "execute_result"
    }
   ],
   "source": [
    "df4.head(4)"
   ]
  },
  {
   "cell_type": "markdown",
   "id": "0a79be92",
   "metadata": {},
   "source": [
    "### Step 4.4 Creating  new feature 'price_per_sqft'\n",
    "\n",
    "We have price in lacs and total sq ft details, with the help of these 2 features; we will create a new feature to get price for per square foot"
   ]
  },
  {
   "cell_type": "code",
   "execution_count": 27,
   "id": "fb34cc7c",
   "metadata": {},
   "outputs": [
    {
     "data": {
      "text/html": [
       "<div>\n",
       "<style scoped>\n",
       "    .dataframe tbody tr th:only-of-type {\n",
       "        vertical-align: middle;\n",
       "    }\n",
       "\n",
       "    .dataframe tbody tr th {\n",
       "        vertical-align: top;\n",
       "    }\n",
       "\n",
       "    .dataframe thead th {\n",
       "        text-align: right;\n",
       "    }\n",
       "</style>\n",
       "<table border=\"1\" class=\"dataframe\">\n",
       "  <thead>\n",
       "    <tr style=\"text-align: right;\">\n",
       "      <th></th>\n",
       "      <th>size</th>\n",
       "      <th>total_sqft</th>\n",
       "      <th>bath</th>\n",
       "      <th>price</th>\n",
       "      <th>location</th>\n",
       "      <th>bhk</th>\n",
       "      <th>price_per_sqft</th>\n",
       "    </tr>\n",
       "  </thead>\n",
       "  <tbody>\n",
       "    <tr>\n",
       "      <th>0</th>\n",
       "      <td>2 BHK</td>\n",
       "      <td>1056.0</td>\n",
       "      <td>2.0</td>\n",
       "      <td>39.07</td>\n",
       "      <td>alandi road</td>\n",
       "      <td>2</td>\n",
       "      <td>3699.810606</td>\n",
       "    </tr>\n",
       "    <tr>\n",
       "      <th>1</th>\n",
       "      <td>4 Bedroom</td>\n",
       "      <td>2600.0</td>\n",
       "      <td>5.0</td>\n",
       "      <td>120.00</td>\n",
       "      <td>ambegaon budruk</td>\n",
       "      <td>4</td>\n",
       "      <td>4615.384615</td>\n",
       "    </tr>\n",
       "    <tr>\n",
       "      <th>2</th>\n",
       "      <td>3 BHK</td>\n",
       "      <td>1440.0</td>\n",
       "      <td>2.0</td>\n",
       "      <td>62.00</td>\n",
       "      <td>anandnagar</td>\n",
       "      <td>3</td>\n",
       "      <td>4305.555556</td>\n",
       "    </tr>\n",
       "    <tr>\n",
       "      <th>3</th>\n",
       "      <td>3 BHK</td>\n",
       "      <td>1521.0</td>\n",
       "      <td>3.0</td>\n",
       "      <td>95.00</td>\n",
       "      <td>aundh</td>\n",
       "      <td>3</td>\n",
       "      <td>6245.890861</td>\n",
       "    </tr>\n",
       "    <tr>\n",
       "      <th>4</th>\n",
       "      <td>2 BHK</td>\n",
       "      <td>1200.0</td>\n",
       "      <td>2.0</td>\n",
       "      <td>51.00</td>\n",
       "      <td>aundh road</td>\n",
       "      <td>2</td>\n",
       "      <td>4250.000000</td>\n",
       "    </tr>\n",
       "  </tbody>\n",
       "</table>\n",
       "</div>"
      ],
      "text/plain": [
       "        size  total_sqft  bath   price         location  bhk  price_per_sqft\n",
       "0      2 BHK      1056.0   2.0   39.07      alandi road    2     3699.810606\n",
       "1  4 Bedroom      2600.0   5.0  120.00  ambegaon budruk    4     4615.384615\n",
       "2      3 BHK      1440.0   2.0   62.00       anandnagar    3     4305.555556\n",
       "3      3 BHK      1521.0   3.0   95.00            aundh    3     6245.890861\n",
       "4      2 BHK      1200.0   2.0   51.00       aundh road    2     4250.000000"
      ]
     },
     "execution_count": 27,
     "metadata": {},
     "output_type": "execute_result"
    }
   ],
   "source": [
    "df5 = df4.copy()\n",
    "\n",
    "df5['price_per_sqft'] = df5['price'] * 100000 / df5['total_sqft']\n",
    "\n",
    "df5.head()"
   ]
  },
  {
   "cell_type": "code",
   "execution_count": 28,
   "id": "384bef62",
   "metadata": {},
   "outputs": [
    {
     "data": {
      "text/plain": [
       "count     12443.000000\n",
       "mean       6368.396872\n",
       "std        4229.035998\n",
       "min         267.829813\n",
       "25%        4213.729845\n",
       "50%        5317.073171\n",
       "75%        6987.951807\n",
       "max      176470.588235\n",
       "Name: price_per_sqft, dtype: float64"
      ]
     },
     "execution_count": 28,
     "metadata": {},
     "output_type": "execute_result"
    }
   ],
   "source": [
    "df5.price_per_sqft.describe()"
   ]
  },
  {
   "cell_type": "code",
   "execution_count": 29,
   "id": "73b18f85",
   "metadata": {},
   "outputs": [
    {
     "data": {
      "text/plain": [
       "(12443, 7)"
      ]
     },
     "execution_count": 29,
     "metadata": {},
     "output_type": "execute_result"
    }
   ],
   "source": [
    "df5.shape"
   ]
  },
  {
   "cell_type": "markdown",
   "id": "100937db",
   "metadata": {},
   "source": [
    "#### Step 4.4.1 Removing Outliers from 'price_per_sqft'\n",
    "\n",
    "We can see that min price is 268 and max price is 176471. We can remove the outliers using mean and standard deviation, any value below the difference of mean and standard deviation; and above the sum of mean and standard deviation will be removed as outlier."
   ]
  },
  {
   "cell_type": "code",
   "execution_count": 30,
   "id": "da883faa",
   "metadata": {},
   "outputs": [
    {
     "data": {
      "text/plain": [
       "(10853, 7)"
      ]
     },
     "execution_count": 30,
     "metadata": {},
     "output_type": "execute_result"
    }
   ],
   "source": [
    "def remove_pps_outliers(df):\n",
    "    df_outliers = pd.DataFrame()\n",
    "    for key, subdf in df.groupby('location'):\n",
    "        m = np.mean(subdf.price_per_sqft)\n",
    "        st_dev = np.std(subdf.price_per_sqft)\n",
    "        new_df = subdf[(subdf.price_per_sqft>(m-st_dev)) & (subdf.price_per_sqft<=(m+st_dev))]\n",
    "        df_outliers = pd.concat([df_outliers,new_df],ignore_index=True)\n",
    "    return df_outliers\n",
    "df6 = remove_pps_outliers(df5)\n",
    "df6.shape"
   ]
  },
  {
   "cell_type": "markdown",
   "id": "c86eed67",
   "metadata": {},
   "source": [
    "#### Step 4.4.2\n",
    "\n",
    "We will now create the scatter plot to check the relationship between 'bhk' feature and 'total_sqft' feature.\n",
    "We will perform sample check for 2 and 3 bhk houses for 2 different locations"
   ]
  },
  {
   "cell_type": "code",
   "execution_count": 31,
   "id": "67017a0b",
   "metadata": {},
   "outputs": [],
   "source": [
    "def plot_scatter_chart(df,location):\n",
    "    bhk2 = df[(df.location==location) & (df.bhk==2)]\n",
    "    bhk3 = df[(df.location==location) & (df.bhk==3)]\n",
    "    plt.rcParams['figure.figsize'] = (15,10)\n",
    "    plt.scatter(bhk2.total_sqft,bhk2.price,color='blue',label='2 BHK', s=50)\n",
    "    plt.scatter(bhk3.total_sqft,bhk3.price,marker='+', color='green',label='3 BHK', s=50)\n",
    "    plt.xlabel(\"Total Square Feet Area\")\n",
    "    plt.ylabel(\"Price (Lakh Indian Rupees)\")\n",
    "    plt.title(location)\n",
    "    plt.legend()"
   ]
  },
  {
   "cell_type": "code",
   "execution_count": 32,
   "id": "e41b817c",
   "metadata": {},
   "outputs": [
    {
     "data": {
      "image/png": "[encoded data removed]",
      "text/plain": [
       "<Figure size 1500x1000 with 1 Axes>"
      ]
     },
     "metadata": {},
     "output_type": "display_data"
    }
   ],
   "source": [
    "plot_scatter_chart(df6,\"aundh\")"
   ]
  },
  {
   "cell_type": "code",
   "execution_count": 33,
   "id": "744dc83e",
   "metadata": {},
   "outputs": [
    {
     "data": {
      "image/png": "[encoded data removed]",
      "text/plain": [
       "<Figure size 1500x1000 with 1 Axes>"
      ]
     },
     "metadata": {},
     "output_type": "display_data"
    }
   ],
   "source": [
    "plot_scatter_chart(df6,\"fatima nagar\")"
   ]
  },
  {
   "cell_type": "markdown",
   "id": "f25a05cd",
   "metadata": {},
   "source": [
    "#### Visualization Summary\n",
    "\n",
    "From above 2 graphs we can see that prices for some lower bhk (2) are higher than for more bhk (3) properties for almost same sqaure feet area for same location, which should not happen, we will remove such outliers also to have more robust data (~ 1200 total_sqft for fatima nagar and aundh)\n",
    "\n",
    "We can remove these outliers. For this we will create dictionary of mean and standard deviation per bhk. We can remove those 2 BHK apartments whose price_per_sqft is less than mean price_per_sqft of 1 BHK apartment and so on"
   ]
  },
  {
   "cell_type": "code",
   "execution_count": 34,
   "id": "92f45209",
   "metadata": {},
   "outputs": [
    {
     "data": {
      "text/plain": [
       "(7506, 7)"
      ]
     },
     "execution_count": 34,
     "metadata": {},
     "output_type": "execute_result"
    }
   ],
   "source": [
    "def bhk_outliers(df):\n",
    "    remove = np.array([])\n",
    "    for location, location_df in df.groupby('location'):\n",
    "        bhk_stats = {}\n",
    "        for bhk, bhk_df in location_df.groupby('bhk'):\n",
    "            bhk_stats[bhk] = {\n",
    "                'mean': np.mean(bhk_df.price_per_sqft),\n",
    "                'std': np.std(bhk_df.price_per_sqft),\n",
    "                'count': bhk_df.shape[0]\n",
    "            }\n",
    "        for bhk, bhk_df in location_df.groupby('bhk'):\n",
    "            stats = bhk_stats.get(bhk-1)\n",
    "            if stats and stats['count']>5:\n",
    "                remove = np.append(remove, bhk_df[bhk_df.price_per_sqft<(stats['mean'])].index.values)\n",
    "    return df.drop(remove,axis='index')\n",
    "\n",
    "df7 = bhk_outliers(df6)\n",
    "\n",
    "df7.shape"
   ]
  },
  {
   "cell_type": "markdown",
   "id": "6e760cb3",
   "metadata": {},
   "source": [
    "#### Step 4.4.2\n",
    "'size' and 'price_per_sqft' features are not required now and we can drop them"
   ]
  },
  {
   "cell_type": "code",
   "execution_count": 35,
   "id": "c0122418",
   "metadata": {},
   "outputs": [
    {
     "data": {
      "text/plain": [
       "(7506, 5)"
      ]
     },
     "execution_count": 35,
     "metadata": {},
     "output_type": "execute_result"
    }
   ],
   "source": [
    "df7 = df7.drop(['price_per_sqft', 'size'], axis = 'columns')\n",
    "\n",
    "df7.shape"
   ]
  },
  {
   "cell_type": "markdown",
   "id": "2b08b8c5",
   "metadata": {},
   "source": [
    "#### Step 4.4.3\n",
    "Let's check correlation between our features."
   ]
  },
  {
   "cell_type": "code",
   "execution_count": 36,
   "id": "68a18a19",
   "metadata": {},
   "outputs": [
    {
     "data": {
      "image/png": "[encoded data removed]",
      "text/plain": [
       "<Figure size 800x600 with 2 Axes>"
      ]
     },
     "metadata": {},
     "output_type": "display_data"
    }
   ],
   "source": [
    "corr_matrix = df7.corr()\n",
    "\n",
    "plt.figure(figsize=(8, 6))\n",
    "sns.heatmap(corr_matrix, annot=True, cmap='icefire')\n",
    "plt.title(\"Correlation Matrix\")\n",
    "plt.show()"
   ]
  },
  {
   "cell_type": "markdown",
   "id": "8b9f2bec",
   "metadata": {},
   "source": [
    "From above graph we can see that\n",
    "\n",
    "1. bath and bhk have the strongest correlation (0.9)\n",
    "\n",
    "2. bhk and price have weakest relationship (0.60)"
   ]
  },
  {
   "cell_type": "code",
   "execution_count": 37,
   "id": "bfc88c69",
   "metadata": {},
   "outputs": [
    {
     "data": {
      "text/plain": [
       "(7506, 5)"
      ]
     },
     "execution_count": 37,
     "metadata": {},
     "output_type": "execute_result"
    }
   ],
   "source": [
    "df7.shape"
   ]
  },
  {
   "cell_type": "markdown",
   "id": "5f8b8dbb",
   "metadata": {},
   "source": [
    "### Step 4.5 Handling 'bath' feature"
   ]
  },
  {
   "cell_type": "markdown",
   "id": "3406c4dc",
   "metadata": {},
   "source": [
    "Having more than 10 bathroom is not common, we can remove these outliers also"
   ]
  },
  {
   "cell_type": "code",
   "execution_count": 38,
   "id": "93dc5a95",
   "metadata": {},
   "outputs": [
    {
     "data": {
      "text/plain": [
       "Text(0, 0.5, 'Count')"
      ]
     },
     "execution_count": 38,
     "metadata": {},
     "output_type": "execute_result"
    },
    {
     "data": {
      "image/png": "[encoded data removed]",
      "text/plain": [
       "<Figure size 1500x1000 with 1 Axes>"
      ]
     },
     "metadata": {},
     "output_type": "display_data"
    }
   ],
   "source": [
    "plt.hist(df7.bath,rwidth=0.8)\n",
    "\n",
    "plt.xlabel(\"Number of bathrooms\")\n",
    "\n",
    "plt.ylabel(\"Count\")"
   ]
  },
  {
   "cell_type": "markdown",
   "id": "59cbc361",
   "metadata": {},
   "source": [
    "#### Step 4.5.1\n",
    "\n",
    "We can see that number of proeprties with more than 10 bathroom are very few"
   ]
  },
  {
   "cell_type": "code",
   "execution_count": 39,
   "id": "14860692",
   "metadata": {},
   "outputs": [
    {
     "data": {
      "text/html": [
       "<div>\n",
       "<style scoped>\n",
       "    .dataframe tbody tr th:only-of-type {\n",
       "        vertical-align: middle;\n",
       "    }\n",
       "\n",
       "    .dataframe tbody tr th {\n",
       "        vertical-align: top;\n",
       "    }\n",
       "\n",
       "    .dataframe thead th {\n",
       "        text-align: right;\n",
       "    }\n",
       "</style>\n",
       "<table border=\"1\" class=\"dataframe\">\n",
       "  <thead>\n",
       "    <tr style=\"text-align: right;\">\n",
       "      <th></th>\n",
       "      <th>total_sqft</th>\n",
       "      <th>bath</th>\n",
       "      <th>price</th>\n",
       "      <th>location</th>\n",
       "      <th>bhk</th>\n",
       "    </tr>\n",
       "  </thead>\n",
       "  <tbody>\n",
       "    <tr>\n",
       "      <th>30</th>\n",
       "      <td>4500.0</td>\n",
       "      <td>9.0</td>\n",
       "      <td>166.0</td>\n",
       "      <td>alandi road</td>\n",
       "      <td>9</td>\n",
       "    </tr>\n",
       "    <tr>\n",
       "      <th>1214</th>\n",
       "      <td>6000.0</td>\n",
       "      <td>12.0</td>\n",
       "      <td>150.0</td>\n",
       "      <td>bibvewadi</td>\n",
       "      <td>11</td>\n",
       "    </tr>\n",
       "    <tr>\n",
       "      <th>2634</th>\n",
       "      <td>12000.0</td>\n",
       "      <td>12.0</td>\n",
       "      <td>525.0</td>\n",
       "      <td>fatima nagar</td>\n",
       "      <td>10</td>\n",
       "    </tr>\n",
       "    <tr>\n",
       "      <th>3064</th>\n",
       "      <td>11338.0</td>\n",
       "      <td>9.0</td>\n",
       "      <td>1000.0</td>\n",
       "      <td>ghorpade peth</td>\n",
       "      <td>6</td>\n",
       "    </tr>\n",
       "    <tr>\n",
       "      <th>3341</th>\n",
       "      <td>3600.0</td>\n",
       "      <td>9.0</td>\n",
       "      <td>125.0</td>\n",
       "      <td>gokhale nagar</td>\n",
       "      <td>8</td>\n",
       "    </tr>\n",
       "    <tr>\n",
       "      <th>4609</th>\n",
       "      <td>6200.0</td>\n",
       "      <td>9.0</td>\n",
       "      <td>200.0</td>\n",
       "      <td>khadaki</td>\n",
       "      <td>9</td>\n",
       "    </tr>\n",
       "    <tr>\n",
       "      <th>5254</th>\n",
       "      <td>5425.0</td>\n",
       "      <td>13.0</td>\n",
       "      <td>275.0</td>\n",
       "      <td>kondhwa khurd</td>\n",
       "      <td>13</td>\n",
       "    </tr>\n",
       "    <tr>\n",
       "      <th>6345</th>\n",
       "      <td>10000.0</td>\n",
       "      <td>16.0</td>\n",
       "      <td>550.0</td>\n",
       "      <td>model colony</td>\n",
       "      <td>16</td>\n",
       "    </tr>\n",
       "    <tr>\n",
       "      <th>6549</th>\n",
       "      <td>5000.0</td>\n",
       "      <td>9.0</td>\n",
       "      <td>210.0</td>\n",
       "      <td>mundhawa</td>\n",
       "      <td>9</td>\n",
       "    </tr>\n",
       "    <tr>\n",
       "      <th>6625</th>\n",
       "      <td>4600.0</td>\n",
       "      <td>9.0</td>\n",
       "      <td>200.0</td>\n",
       "      <td>mundhawa</td>\n",
       "      <td>9</td>\n",
       "    </tr>\n",
       "    <tr>\n",
       "      <th>8156</th>\n",
       "      <td>4500.0</td>\n",
       "      <td>9.0</td>\n",
       "      <td>500.0</td>\n",
       "      <td>raviwar peth</td>\n",
       "      <td>9</td>\n",
       "    </tr>\n",
       "    <tr>\n",
       "      <th>8201</th>\n",
       "      <td>3300.0</td>\n",
       "      <td>9.0</td>\n",
       "      <td>450.0</td>\n",
       "      <td>raviwar peth</td>\n",
       "      <td>10</td>\n",
       "    </tr>\n",
       "    <tr>\n",
       "      <th>8474</th>\n",
       "      <td>5000.0</td>\n",
       "      <td>9.0</td>\n",
       "      <td>360.0</td>\n",
       "      <td>salunke vihar</td>\n",
       "      <td>11</td>\n",
       "    </tr>\n",
       "    <tr>\n",
       "      <th>9227</th>\n",
       "      <td>3600.0</td>\n",
       "      <td>9.0</td>\n",
       "      <td>240.0</td>\n",
       "      <td>shukrawar peth</td>\n",
       "      <td>9</td>\n",
       "    </tr>\n",
       "    <tr>\n",
       "      <th>9629</th>\n",
       "      <td>4600.0</td>\n",
       "      <td>9.0</td>\n",
       "      <td>150.0</td>\n",
       "      <td>swargate</td>\n",
       "      <td>9</td>\n",
       "    </tr>\n",
       "    <tr>\n",
       "      <th>10363</th>\n",
       "      <td>4000.0</td>\n",
       "      <td>12.0</td>\n",
       "      <td>160.0</td>\n",
       "      <td>wagholi</td>\n",
       "      <td>10</td>\n",
       "    </tr>\n",
       "  </tbody>\n",
       "</table>\n",
       "</div>"
      ],
      "text/plain": [
       "       total_sqft  bath   price        location  bhk\n",
       "30         4500.0   9.0   166.0     alandi road    9\n",
       "1214       6000.0  12.0   150.0       bibvewadi   11\n",
       "2634      12000.0  12.0   525.0    fatima nagar   10\n",
       "3064      11338.0   9.0  1000.0   ghorpade peth    6\n",
       "3341       3600.0   9.0   125.0   gokhale nagar    8\n",
       "4609       6200.0   9.0   200.0         khadaki    9\n",
       "5254       5425.0  13.0   275.0   kondhwa khurd   13\n",
       "6345      10000.0  16.0   550.0    model colony   16\n",
       "6549       5000.0   9.0   210.0        mundhawa    9\n",
       "6625       4600.0   9.0   200.0        mundhawa    9\n",
       "8156       4500.0   9.0   500.0    raviwar peth    9\n",
       "8201       3300.0   9.0   450.0    raviwar peth   10\n",
       "8474       5000.0   9.0   360.0   salunke vihar   11\n",
       "9227       3600.0   9.0   240.0  shukrawar peth    9\n",
       "9629       4600.0   9.0   150.0        swargate    9\n",
       "10363      4000.0  12.0   160.0         wagholi   10"
      ]
     },
     "execution_count": 39,
     "metadata": {},
     "output_type": "execute_result"
    }
   ],
   "source": [
    "df7[df7.bath>8]"
   ]
  },
  {
   "cell_type": "markdown",
   "id": "f3060424",
   "metadata": {},
   "source": [
    "#### Step 4.5.2\n",
    "\n",
    "From our domain knowledge we now that number of bathroom in a property is normally is same as bumber of bedroom\n",
    "considering this we can remove the proerpties which have 2 bathrooms more than the bedroom"
   ]
  },
  {
   "cell_type": "code",
   "execution_count": 40,
   "id": "ec7b1c76",
   "metadata": {},
   "outputs": [
    {
     "data": {
      "text/html": [
       "<div>\n",
       "<style scoped>\n",
       "    .dataframe tbody tr th:only-of-type {\n",
       "        vertical-align: middle;\n",
       "    }\n",
       "\n",
       "    .dataframe tbody tr th {\n",
       "        vertical-align: top;\n",
       "    }\n",
       "\n",
       "    .dataframe thead th {\n",
       "        text-align: right;\n",
       "    }\n",
       "</style>\n",
       "<table border=\"1\" class=\"dataframe\">\n",
       "  <thead>\n",
       "    <tr style=\"text-align: right;\">\n",
       "      <th></th>\n",
       "      <th>total_sqft</th>\n",
       "      <th>bath</th>\n",
       "      <th>price</th>\n",
       "      <th>location</th>\n",
       "      <th>bhk</th>\n",
       "    </tr>\n",
       "  </thead>\n",
       "  <tbody>\n",
       "    <tr>\n",
       "      <th>0</th>\n",
       "      <td>1056.0</td>\n",
       "      <td>2.0</td>\n",
       "      <td>39.07</td>\n",
       "      <td>alandi road</td>\n",
       "      <td>2</td>\n",
       "    </tr>\n",
       "    <tr>\n",
       "      <th>1</th>\n",
       "      <td>2894.0</td>\n",
       "      <td>4.0</td>\n",
       "      <td>245.00</td>\n",
       "      <td>alandi road</td>\n",
       "      <td>4</td>\n",
       "    </tr>\n",
       "    <tr>\n",
       "      <th>2</th>\n",
       "      <td>1084.0</td>\n",
       "      <td>2.0</td>\n",
       "      <td>50.00</td>\n",
       "      <td>alandi road</td>\n",
       "      <td>2</td>\n",
       "    </tr>\n",
       "    <tr>\n",
       "      <th>3</th>\n",
       "      <td>1000.0</td>\n",
       "      <td>2.0</td>\n",
       "      <td>25.00</td>\n",
       "      <td>alandi road</td>\n",
       "      <td>2</td>\n",
       "    </tr>\n",
       "    <tr>\n",
       "      <th>4</th>\n",
       "      <td>1230.0</td>\n",
       "      <td>2.0</td>\n",
       "      <td>80.00</td>\n",
       "      <td>alandi road</td>\n",
       "      <td>2</td>\n",
       "    </tr>\n",
       "  </tbody>\n",
       "</table>\n",
       "</div>"
      ],
      "text/plain": [
       "   total_sqft  bath   price     location  bhk\n",
       "0      1056.0   2.0   39.07  alandi road    2\n",
       "1      2894.0   4.0  245.00  alandi road    4\n",
       "2      1084.0   2.0   50.00  alandi road    2\n",
       "3      1000.0   2.0   25.00  alandi road    2\n",
       "4      1230.0   2.0   80.00  alandi road    2"
      ]
     },
     "execution_count": 40,
     "metadata": {},
     "output_type": "execute_result"
    }
   ],
   "source": [
    "df8 = df7[df7.bath < df7.bhk+2]\n",
    "\n",
    "df8.head(5)"
   ]
  },
  {
   "cell_type": "code",
   "execution_count": 41,
   "id": "b569e2b5",
   "metadata": {},
   "outputs": [
    {
     "data": {
      "text/plain": [
       "(7442, 5)"
      ]
     },
     "execution_count": 41,
     "metadata": {},
     "output_type": "execute_result"
    }
   ],
   "source": [
    "df8.shape"
   ]
  },
  {
   "cell_type": "code",
   "execution_count": 42,
   "id": "cc61ce23",
   "metadata": {},
   "outputs": [
    {
     "data": {
      "text/html": [
       "<div>\n",
       "<style scoped>\n",
       "    .dataframe tbody tr th:only-of-type {\n",
       "        vertical-align: middle;\n",
       "    }\n",
       "\n",
       "    .dataframe tbody tr th {\n",
       "        vertical-align: top;\n",
       "    }\n",
       "\n",
       "    .dataframe thead th {\n",
       "        text-align: right;\n",
       "    }\n",
       "</style>\n",
       "<table border=\"1\" class=\"dataframe\">\n",
       "  <thead>\n",
       "    <tr style=\"text-align: right;\">\n",
       "      <th></th>\n",
       "      <th>total_sqft</th>\n",
       "      <th>bath</th>\n",
       "      <th>price</th>\n",
       "      <th>location</th>\n",
       "      <th>bhk</th>\n",
       "    </tr>\n",
       "  </thead>\n",
       "  <tbody>\n",
       "    <tr>\n",
       "      <th>0</th>\n",
       "      <td>1056.0</td>\n",
       "      <td>2.0</td>\n",
       "      <td>39.07</td>\n",
       "      <td>alandi road</td>\n",
       "      <td>2</td>\n",
       "    </tr>\n",
       "    <tr>\n",
       "      <th>1</th>\n",
       "      <td>2894.0</td>\n",
       "      <td>4.0</td>\n",
       "      <td>245.00</td>\n",
       "      <td>alandi road</td>\n",
       "      <td>4</td>\n",
       "    </tr>\n",
       "    <tr>\n",
       "      <th>2</th>\n",
       "      <td>1084.0</td>\n",
       "      <td>2.0</td>\n",
       "      <td>50.00</td>\n",
       "      <td>alandi road</td>\n",
       "      <td>2</td>\n",
       "    </tr>\n",
       "    <tr>\n",
       "      <th>3</th>\n",
       "      <td>1000.0</td>\n",
       "      <td>2.0</td>\n",
       "      <td>25.00</td>\n",
       "      <td>alandi road</td>\n",
       "      <td>2</td>\n",
       "    </tr>\n",
       "    <tr>\n",
       "      <th>4</th>\n",
       "      <td>1230.0</td>\n",
       "      <td>2.0</td>\n",
       "      <td>80.00</td>\n",
       "      <td>alandi road</td>\n",
       "      <td>2</td>\n",
       "    </tr>\n",
       "  </tbody>\n",
       "</table>\n",
       "</div>"
      ],
      "text/plain": [
       "   total_sqft  bath   price     location  bhk\n",
       "0      1056.0   2.0   39.07  alandi road    2\n",
       "1      2894.0   4.0  245.00  alandi road    4\n",
       "2      1084.0   2.0   50.00  alandi road    2\n",
       "3      1000.0   2.0   25.00  alandi road    2\n",
       "4      1230.0   2.0   80.00  alandi road    2"
      ]
     },
     "execution_count": 42,
     "metadata": {},
     "output_type": "execute_result"
    }
   ],
   "source": [
    "df8.head()"
   ]
  },
  {
   "cell_type": "code",
   "execution_count": 43,
   "id": "4667532b",
   "metadata": {},
   "outputs": [
    {
     "data": {
      "text/plain": [
       "array(['alandi road', 'ambegaon budruk', 'anandnagar', 'aundh',\n",
       "       'aundh road', 'balaji nagar', 'baner', 'baner road',\n",
       "       'bhandarkar road', 'bhavani peth', 'bibvewadi', 'bopodi',\n",
       "       'budhwar peth', 'bund garden road', 'camp', 'chandan nagar',\n",
       "       'dapodi', 'deccan gymkhana', 'dehu road', 'dhankawadi',\n",
       "       'dhayari phata', 'dhole patil road', 'erandwane', 'fatima nagar',\n",
       "       'fergusson college road', 'ganesh peth', 'ganeshkhind',\n",
       "       'ghorpade peth', 'ghorpadi', 'gokhale nagar', 'gultekdi',\n",
       "       'guruwar peth', 'hadapsar', 'hadapsar industrial estate',\n",
       "       'hingne khurd', 'jangali maharaj road', 'kalyani nagar',\n",
       "       'karve nagar', 'karve road', 'kasba peth', 'katraj', 'khadaki',\n",
       "       'khadki', 'kharadi', 'kondhwa', 'kondhwa budruk', 'kondhwa khurd',\n",
       "       'koregaon park', 'kothrud', 'law college road', 'laxmi road',\n",
       "       'lulla nagar', 'mahatma gandhi road', 'mangalwar peth',\n",
       "       'manik bagh', 'market yard', 'model colony', 'mukund nagar',\n",
       "       'mundhawa', 'nagar road', 'nana peth', 'narayan peth',\n",
       "       'narayangaon', 'navi peth', 'padmavati', 'parvati darshan',\n",
       "       'pashan', 'paud road', 'pirangut', 'prabhat road',\n",
       "       'pune railway station', 'rasta peth', 'raviwar peth',\n",
       "       'sadashiv peth', 'sahakar nagar', 'salunke vihar', 'sasson road',\n",
       "       'satara road', 'senapati bapat road', 'shaniwar peth',\n",
       "       'shivaji nagar', 'shukrawar peth', 'sinhagad road', 'somwar peth',\n",
       "       'swargate', 'tilak road', 'uruli devachi', 'vadgaon budruk',\n",
       "       'viman nagar', 'vishrant wadi', 'wadgaon sheri', 'wagholi',\n",
       "       'wakadewadi', 'wanowrie', 'warje', 'yerawada'], dtype=object)"
      ]
     },
     "execution_count": 43,
     "metadata": {},
     "output_type": "execute_result"
    }
   ],
   "source": [
    "df8['location'].unique()"
   ]
  },
  {
   "cell_type": "markdown",
   "id": "5945170d",
   "metadata": {},
   "source": [
    "### Step 4.6 One Hot Encoding\n",
    "\n",
    "All our features are numerical feature except site_location, we will use One Hot Encoding to encode the feature"
   ]
  },
  {
   "cell_type": "code",
   "execution_count": 44,
   "id": "8261327e",
   "metadata": {},
   "outputs": [],
   "source": [
    "encoded_location = pd.get_dummies(df8['location'], drop_first=False)"
   ]
  },
  {
   "cell_type": "markdown",
   "id": "a159c6b0",
   "metadata": {},
   "source": [
    "#### Step 4.6.1\n",
    "\n",
    "We will now Concat these dummies with our dataset and we will drop site_location feature"
   ]
  },
  {
   "cell_type": "code",
   "execution_count": 45,
   "id": "e97a881a",
   "metadata": {},
   "outputs": [
    {
     "data": {
      "text/plain": [
       "(7442, 100)"
      ]
     },
     "execution_count": 45,
     "metadata": {},
     "output_type": "execute_result"
    }
   ],
   "source": [
    "df9 = pd.concat([df8, encoded_location], axis='columns')\n",
    "\n",
    "df10 = df9.drop(['location'], axis = 'columns')\n",
    "\n",
    "df10.shape"
   ]
  },
  {
   "cell_type": "code",
   "execution_count": 46,
   "id": "39b88fbe",
   "metadata": {},
   "outputs": [
    {
     "data": {
      "text/html": [
       "<div>\n",
       "<style scoped>\n",
       "    .dataframe tbody tr th:only-of-type {\n",
       "        vertical-align: middle;\n",
       "    }\n",
       "\n",
       "    .dataframe tbody tr th {\n",
       "        vertical-align: top;\n",
       "    }\n",
       "\n",
       "    .dataframe thead th {\n",
       "        text-align: right;\n",
       "    }\n",
       "</style>\n",
       "<table border=\"1\" class=\"dataframe\">\n",
       "  <thead>\n",
       "    <tr style=\"text-align: right;\">\n",
       "      <th></th>\n",
       "      <th>total_sqft</th>\n",
       "      <th>bath</th>\n",
       "      <th>price</th>\n",
       "      <th>bhk</th>\n",
       "      <th>alandi road</th>\n",
       "      <th>ambegaon budruk</th>\n",
       "      <th>anandnagar</th>\n",
       "      <th>aundh</th>\n",
       "      <th>aundh road</th>\n",
       "      <th>balaji nagar</th>\n",
       "      <th>...</th>\n",
       "      <th>uruli devachi</th>\n",
       "      <th>vadgaon budruk</th>\n",
       "      <th>viman nagar</th>\n",
       "      <th>vishrant wadi</th>\n",
       "      <th>wadgaon sheri</th>\n",
       "      <th>wagholi</th>\n",
       "      <th>wakadewadi</th>\n",
       "      <th>wanowrie</th>\n",
       "      <th>warje</th>\n",
       "      <th>yerawada</th>\n",
       "    </tr>\n",
       "  </thead>\n",
       "  <tbody>\n",
       "    <tr>\n",
       "      <th>0</th>\n",
       "      <td>1056.0</td>\n",
       "      <td>2.0</td>\n",
       "      <td>39.07</td>\n",
       "      <td>2</td>\n",
       "      <td>1</td>\n",
       "      <td>0</td>\n",
       "      <td>0</td>\n",
       "      <td>0</td>\n",
       "      <td>0</td>\n",
       "      <td>0</td>\n",
       "      <td>...</td>\n",
       "      <td>0</td>\n",
       "      <td>0</td>\n",
       "      <td>0</td>\n",
       "      <td>0</td>\n",
       "      <td>0</td>\n",
       "      <td>0</td>\n",
       "      <td>0</td>\n",
       "      <td>0</td>\n",
       "      <td>0</td>\n",
       "      <td>0</td>\n",
       "    </tr>\n",
       "    <tr>\n",
       "      <th>1</th>\n",
       "      <td>2894.0</td>\n",
       "      <td>4.0</td>\n",
       "      <td>245.00</td>\n",
       "      <td>4</td>\n",
       "      <td>1</td>\n",
       "      <td>0</td>\n",
       "      <td>0</td>\n",
       "      <td>0</td>\n",
       "      <td>0</td>\n",
       "      <td>0</td>\n",
       "      <td>...</td>\n",
       "      <td>0</td>\n",
       "      <td>0</td>\n",
       "      <td>0</td>\n",
       "      <td>0</td>\n",
       "      <td>0</td>\n",
       "      <td>0</td>\n",
       "      <td>0</td>\n",
       "      <td>0</td>\n",
       "      <td>0</td>\n",
       "      <td>0</td>\n",
       "    </tr>\n",
       "    <tr>\n",
       "      <th>2</th>\n",
       "      <td>1084.0</td>\n",
       "      <td>2.0</td>\n",
       "      <td>50.00</td>\n",
       "      <td>2</td>\n",
       "      <td>1</td>\n",
       "      <td>0</td>\n",
       "      <td>0</td>\n",
       "      <td>0</td>\n",
       "      <td>0</td>\n",
       "      <td>0</td>\n",
       "      <td>...</td>\n",
       "      <td>0</td>\n",
       "      <td>0</td>\n",
       "      <td>0</td>\n",
       "      <td>0</td>\n",
       "      <td>0</td>\n",
       "      <td>0</td>\n",
       "      <td>0</td>\n",
       "      <td>0</td>\n",
       "      <td>0</td>\n",
       "      <td>0</td>\n",
       "    </tr>\n",
       "    <tr>\n",
       "      <th>3</th>\n",
       "      <td>1000.0</td>\n",
       "      <td>2.0</td>\n",
       "      <td>25.00</td>\n",
       "      <td>2</td>\n",
       "      <td>1</td>\n",
       "      <td>0</td>\n",
       "      <td>0</td>\n",
       "      <td>0</td>\n",
       "      <td>0</td>\n",
       "      <td>0</td>\n",
       "      <td>...</td>\n",
       "      <td>0</td>\n",
       "      <td>0</td>\n",
       "      <td>0</td>\n",
       "      <td>0</td>\n",
       "      <td>0</td>\n",
       "      <td>0</td>\n",
       "      <td>0</td>\n",
       "      <td>0</td>\n",
       "      <td>0</td>\n",
       "      <td>0</td>\n",
       "    </tr>\n",
       "    <tr>\n",
       "      <th>4</th>\n",
       "      <td>1230.0</td>\n",
       "      <td>2.0</td>\n",
       "      <td>80.00</td>\n",
       "      <td>2</td>\n",
       "      <td>1</td>\n",
       "      <td>0</td>\n",
       "      <td>0</td>\n",
       "      <td>0</td>\n",
       "      <td>0</td>\n",
       "      <td>0</td>\n",
       "      <td>...</td>\n",
       "      <td>0</td>\n",
       "      <td>0</td>\n",
       "      <td>0</td>\n",
       "      <td>0</td>\n",
       "      <td>0</td>\n",
       "      <td>0</td>\n",
       "      <td>0</td>\n",
       "      <td>0</td>\n",
       "      <td>0</td>\n",
       "      <td>0</td>\n",
       "    </tr>\n",
       "  </tbody>\n",
       "</table>\n",
       "<p>5 rows × 100 columns</p>\n",
       "</div>"
      ],
      "text/plain": [
       "   total_sqft  bath   price  bhk  alandi road  ambegaon budruk  anandnagar  \\\n",
       "0      1056.0   2.0   39.07    2            1                0           0   \n",
       "1      2894.0   4.0  245.00    4            1                0           0   \n",
       "2      1084.0   2.0   50.00    2            1                0           0   \n",
       "3      1000.0   2.0   25.00    2            1                0           0   \n",
       "4      1230.0   2.0   80.00    2            1                0           0   \n",
       "\n",
       "   aundh  aundh road  balaji nagar  ...  uruli devachi  vadgaon budruk  \\\n",
       "0      0           0             0  ...              0               0   \n",
       "1      0           0             0  ...              0               0   \n",
       "2      0           0             0  ...              0               0   \n",
       "3      0           0             0  ...              0               0   \n",
       "4      0           0             0  ...              0               0   \n",
       "\n",
       "   viman nagar  vishrant wadi  wadgaon sheri  wagholi  wakadewadi  wanowrie  \\\n",
       "0            0              0              0        0           0         0   \n",
       "1            0              0              0        0           0         0   \n",
       "2            0              0              0        0           0         0   \n",
       "3            0              0              0        0           0         0   \n",
       "4            0              0              0        0           0         0   \n",
       "\n",
       "   warje  yerawada  \n",
       "0      0         0  \n",
       "1      0         0  \n",
       "2      0         0  \n",
       "3      0         0  \n",
       "4      0         0  \n",
       "\n",
       "[5 rows x 100 columns]"
      ]
     },
     "execution_count": 46,
     "metadata": {},
     "output_type": "execute_result"
    }
   ],
   "source": [
    "df10.head()"
   ]
  },
  {
   "cell_type": "markdown",
   "id": "f128354a",
   "metadata": {},
   "source": [
    "#### End of Preprocessing and Feature Engineering process\n",
    "\n",
    "This is our final dataset which we will be using for Model Building"
   ]
  },
  {
   "cell_type": "markdown",
   "id": "025205be",
   "metadata": {},
   "source": [
    "### Step 5: Model Selection and Training\n",
    "\n",
    "We will start model building process by splitting our dataset into X and y, where X will represent independent feature and y will be the feature which we want to predict ('price')."
   ]
  },
  {
   "cell_type": "code",
   "execution_count": 47,
   "id": "e5119492",
   "metadata": {},
   "outputs": [],
   "source": [
    "X = df10.drop('price', axis = 'columns')"
   ]
  },
  {
   "cell_type": "code",
   "execution_count": 48,
   "id": "b513444b",
   "metadata": {},
   "outputs": [],
   "source": [
    "y = df10.price"
   ]
  },
  {
   "cell_type": "markdown",
   "id": "82f6e29a",
   "metadata": {},
   "source": [
    "I have tested different models, along with K-fold cross validation and Grid CV search and I have received best results with Linear Regression model and I will be using only this model for model building."
   ]
  },
  {
   "cell_type": "markdown",
   "id": "1c4d8ba5",
   "metadata": {},
   "source": [
    "1. Splitting the data into training and test dataset"
   ]
  },
  {
   "cell_type": "code",
   "execution_count": 49,
   "id": "a1a2109d",
   "metadata": {},
   "outputs": [],
   "source": [
    "X_train, X_test, y_train, y_test = train_test_split(X,y,test_size=0.2,random_state=10)"
   ]
  },
  {
   "cell_type": "markdown",
   "id": "11228462",
   "metadata": {},
   "source": [
    "2. initiating the Linear Regression model"
   ]
  },
  {
   "cell_type": "code",
   "execution_count": 50,
   "id": "2c0a8079",
   "metadata": {},
   "outputs": [],
   "source": [
    "lr_model = LinearRegression()"
   ]
  },
  {
   "cell_type": "markdown",
   "id": "342dfabc",
   "metadata": {},
   "source": [
    "3. Training the linear regression model on Train dataset"
   ]
  },
  {
   "cell_type": "code",
   "execution_count": 51,
   "id": "18a420f7",
   "metadata": {},
   "outputs": [
    {
     "data": {
      "text/plain": [
       "LinearRegression()"
      ]
     },
     "execution_count": 51,
     "metadata": {},
     "output_type": "execute_result"
    }
   ],
   "source": [
    "lr_model.fit(X_train,y_train)"
   ]
  },
  {
   "cell_type": "markdown",
   "id": "e6f65063",
   "metadata": {},
   "source": [
    "4. Evaluating the model performance on Test dataset"
   ]
  },
  {
   "cell_type": "code",
   "execution_count": 52,
   "id": "c8934f6c",
   "metadata": {},
   "outputs": [
    {
     "data": {
      "text/plain": [
       "0.869203080205301"
      ]
     },
     "execution_count": 52,
     "metadata": {},
     "output_type": "execute_result"
    }
   ],
   "source": [
    "lr_model.score(X_test,y_test)"
   ]
  },
  {
   "cell_type": "code",
   "execution_count": 53,
   "id": "b782118e",
   "metadata": {},
   "outputs": [],
   "source": [
    "def predict_price(location,sqft,bath,bhk):    \n",
    "    loc_index = np.where(X.columns == location)[0][0]\n",
    "\n",
    "    x = np.zeros(len(X.columns))\n",
    "    x[0] = sqft\n",
    "    x[1] = bath\n",
    "    x[2] = bhk\n",
    "    if loc_index >= 0:\n",
    "        x[loc_index] = 1\n",
    "        \n",
    "    x_df = pd.DataFrame([x], columns=X.columns)\n",
    "\n",
    "    return lr_model.predict(x_df)[0]"
   ]
  },
  {
   "cell_type": "code",
   "execution_count": 54,
   "id": "230c6d8c",
   "metadata": {},
   "outputs": [
    {
     "data": {
      "text/plain": [
       "71.73315528018114"
      ]
     },
     "execution_count": 54,
     "metadata": {},
     "output_type": "execute_result"
    }
   ],
   "source": [
    "predict_price('bhavani peth',1000, 2, 2)"
   ]
  },
  {
   "cell_type": "code",
   "execution_count": 55,
   "id": "26467a17",
   "metadata": {},
   "outputs": [
    {
     "data": {
      "text/plain": [
       "70.21882949131592"
      ]
     },
     "execution_count": 55,
     "metadata": {},
     "output_type": "execute_result"
    }
   ],
   "source": [
    "predict_price('bhavani peth',1000, 2, 3)"
   ]
  },
  {
   "cell_type": "code",
   "execution_count": 56,
   "id": "e5a7985d",
   "metadata": {},
   "outputs": [
    {
     "data": {
      "text/plain": [
       "75.28254709339359"
      ]
     },
     "execution_count": 56,
     "metadata": {},
     "output_type": "execute_result"
    }
   ],
   "source": [
    "predict_price('bhavani peth',1000, 3, 2)"
   ]
  },
  {
   "cell_type": "code",
   "execution_count": 57,
   "id": "aa2c45df",
   "metadata": {},
   "outputs": [
    {
     "data": {
      "text/plain": [
       "73.76822130452837"
      ]
     },
     "execution_count": 57,
     "metadata": {},
     "output_type": "execute_result"
    }
   ],
   "source": [
    "predict_price('bhavani peth',1000, 3, 3)"
   ]
  },
  {
   "cell_type": "markdown",
   "id": "145d710a",
   "metadata": {},
   "source": [
    "### Step 6: Ingesting Trained Model into Pipeline and saving the results"
   ]
  },
  {
   "cell_type": "code",
   "execution_count": 58,
   "id": "553f0c8c",
   "metadata": {},
   "outputs": [],
   "source": [
    "data_columns = list(X_train.columns)  \n",
    "\n",
    "with open('columns.json', 'w') as f:\n",
    "    json.dump({'data_columns': data_columns}, f)"
   ]
  },
  {
   "cell_type": "code",
   "execution_count": 59,
   "id": "8b02dee1",
   "metadata": {},
   "outputs": [],
   "source": [
    "import pickle\n",
    "with open('pune_house_price_model.pickle','wb') as f:\n",
    "    pickle.dump(lr_model,f)"
   ]
  },
  {
   "cell_type": "code",
   "execution_count": 60,
   "id": "3e61d226",
   "metadata": {},
   "outputs": [],
   "source": [
    "def load_saved_columns(json_path='columns.json'):\n",
    "    with open(json_path, 'r') as f:\n",
    "        data = json.load(f)\n",
    "    return data['data_columns']\n",
    "\n",
    "def load_model(model_path='lr_model.pickle'):\n",
    "    with open(model_path, 'rb') as f:\n",
    "        model = pickle.load(f)\n",
    "    return model\n",
    "\n",
    "def predict_price(model,location,sqft,bath,bhk,data_columns):    \n",
    "    loc_index = -1\n",
    "    if location in data_columns:\n",
    "        loc_index = data_columns.index(location)\n",
    "\n",
    "    x = np.zeros(len(X.columns))\n",
    "    x[0] = sqft\n",
    "    x[1] = bath\n",
    "    x[2] = bhk\n",
    "    if loc_index >= 0:\n",
    "        x[loc_index] = 1\n",
    "        \n",
    "    x_df = pd.DataFrame([x], columns=X.columns)\n",
    "\n",
    "    return lr_model.predict(x_df)[0]\n",
    "\n",
    "def store_predictions(predictions, ennovate_db='data_pipeline.db'):\n",
    "    with sqlite3.connect(ennovate_db) as conn:\n",
    "        conn.execute('''\n",
    "            CREATE TABLE IF NOT EXISTS predictions (\n",
    "                id INTEGER PRIMARY KEY AUTOINCREMENT,\n",
    "                location TEXT,\n",
    "                total_sqft REAL,\n",
    "                bath INTEGER,\n",
    "                bhk INTEGER,\n",
    "                predicted_price REAL\n",
    "            )\n",
    "        ''')\n",
    "        print(\"\\nPredictions table schema is set up.\\n\")\n",
    "        \n",
    "        for pred in predictions:\n",
    "            location, sqft, bath, bhk, predicted_price = pred\n",
    "            conn.execute('''\n",
    "                INSERT INTO predictions (location, total_sqft, bath, bhk, predicted_price)\n",
    "                VALUES (?, ?, ?, ?, ?)\n",
    "            ''', (location, sqft, bath, bhk, predicted_price))\n",
    "        print(f\"\\nPredictions stored successfully.\\n\")\n",
    "        \n",
    "def run_model_pipeline(model_path, data_db='data_pipeline.db'):\n",
    "    global df8\n",
    "    \n",
    "    # Load model\n",
    "    model = load_model(model_path)\n",
    "    \n",
    "    # Load the feature names used during training\n",
    "    data_columns = load_saved_columns('columns.json')\n",
    "    \n",
    "    if df8 is not None:\n",
    "        df = df8\n",
    "        print(\"\\nUsing preprocessed df8 DataFrame.\\n\")\n",
    "    else:\n",
    "        engine = create_engine(f'sqlite:///{data_db}')\n",
    "        df = pd.read_sql('data', con=engine)\n",
    "    \n",
    "    # Make predictions\n",
    "    predictions = []\n",
    "    for _, row in df.iterrows():\n",
    "        try:\n",
    "            location = row['location']\n",
    "            sqft = row['total_sqft']\n",
    "            bath = row['bath']\n",
    "            bhk = row['bhk']\n",
    "        except KeyError as e:\n",
    "            print(f\"KeyError: {e}\")\n",
    "            continue  # Skip rows with missing columns\n",
    "        \n",
    "        predicted_price = predict_price(model, location, sqft, bath, bhk, data_columns)\n",
    "        predictions.append((location, sqft, bath, bhk, predicted_price))\n",
    "    \n",
    "    # Store predictions\n",
    "    store_predictions(predictions)\n",
    "\n",
    "    print(\"Model Integration Pipeline is completed.\")"
   ]
  },
  {
   "cell_type": "code",
   "execution_count": 61,
   "id": "cf328f53",
   "metadata": {},
   "outputs": [
    {
     "name": "stdout",
     "output_type": "stream",
     "text": [
      "\n",
      "Using preprocessed df8 DataFrame.\n",
      "\n",
      "\n",
      "Predictions table schema is set up.\n",
      "\n",
      "\n",
      "Predictions stored successfully.\n",
      "\n",
      "Model Integration Pipeline is completed.\n"
     ]
    }
   ],
   "source": [
    "if __name__ == \"__main__\":\n",
    "    model_path = r\"C:\\Users\\lenovo\\Desktop\\Project\\Ennovate_Test\\pune_house_price_model.pickle\"\n",
    "    run_model_pipeline(model_path)"
   ]
  }
 ],
 "metadata": {
  "kernelspec": {
   "display_name": "Python 3 (ipykernel)",
   "language": "python",
   "name": "python3"
  },
  "language_info": {
   "codemirror_mode": {
    "name": "ipython",
    "version": 3
   },
   "file_extension": ".py",
   "mimetype": "text/x-python",
   "name": "python",
   "nbconvert_exporter": "python",
   "pygments_lexer": "ipython3",
   "version": "3.9.13"
  }
 },
 "nbformat": 4,
 "nbformat_minor": 5
}
