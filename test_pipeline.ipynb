{
 "cells": [
  {
   "cell_type": "code",
   "execution_count": 1,
   "id": "b1a05515",
   "metadata": {},
   "outputs": [
    {
     "name": "stderr",
     "output_type": "stream",
     "text": [
      "..\n",
      "----------------------------------------------------------------------\n",
      "Ran 2 tests in 0.681s\n",
      "\n",
      "OK\n"
     ]
    }
   ],
   "source": [
    "import unittest\n",
    "import pandas as pd\n",
    "import numpy as np\n",
    "import pickle\n",
    "from model.model_pipeline import load_model, predict_price, load_saved_columns\n",
    "\n",
    "class TestModelPipeline(unittest.TestCase):\n",
    "\n",
    "    def setUp(self):\n",
    "        self.model_path = r\"C:\\Users\\lenovo\\Desktop\\Project\\Ennovate_Test\\pune_house_price_model.pickle\"\n",
    "        self.model = load_model(self.model_path)\n",
    "        self.data_columns = load_saved_columns() \n",
    "\n",
    "    def test_load_model(self):\n",
    "        self.assertIsNotNone(self.model)\n",
    "    \n",
    "    def test_predict_price(self):\n",
    "        # Example values\n",
    "        location = 'pashan'\n",
    "        sqft = 1200\n",
    "        bath = 2\n",
    "        bhk = 2\n",
    "        \n",
    "        predicted_price = predict_price(self.model, location, sqft, bath, bhk, self.data_columns)\n",
    "        self.assertIsInstance(predicted_price, float)\n",
    "\n",
    "def run_tests():\n",
    "    suite = unittest.TestLoader().loadTestsFromTestCase(TestModelPipeline)\n",
    "    unittest.TextTestRunner().run(suite)\n",
    "\n",
    "if __name__ == \"__main__\":\n",
    "    run_tests()"
   ]
  },
  {
   "cell_type": "code",
   "execution_count": null,
   "id": "d7a2f7cb",
   "metadata": {},
   "outputs": [],
   "source": []
  }
 ],
 "metadata": {
  "kernelspec": {
   "display_name": "Python 3 (ipykernel)",
   "language": "python",
   "name": "python3"
  },
  "language_info": {
   "codemirror_mode": {
    "name": "ipython",
    "version": 3
   },
   "file_extension": ".py",
   "mimetype": "text/x-python",
   "name": "python",
   "nbconvert_exporter": "python",
   "pygments_lexer": "ipython3",
   "version": "3.9.13"
  }
 },
 "nbformat": 4,
 "nbformat_minor": 5
}
