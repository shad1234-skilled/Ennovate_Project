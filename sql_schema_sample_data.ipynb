{
 "cells": [
  {
   "cell_type": "code",
   "execution_count": 1,
   "id": "bc235c42",
   "metadata": {},
   "outputs": [
    {
     "name": "stdout",
     "output_type": "stream",
     "text": [
      "SQL file 'schema_and_sample_data.sql' has been created.\n"
     ]
    }
   ],
   "source": [
    "# Define the SQL code as a multi-line string\n",
    "sql_code = \"\"\"\n",
    "-- SQL Schema and Sample Data Script\n",
    "\n",
    "-- Drop tables if they exist to avoid conflicts during re-execution\n",
    "DROP TABLE IF EXISTS housing_data;\n",
    "DROP TABLE IF EXISTS predictions;\n",
    "\n",
    "-- Create table for housing data\n",
    "CREATE TABLE housing_data (\n",
    "    id INTEGER PRIMARY KEY AUTOINCREMENT,\n",
    "    total_sqft REAL,\n",
    "    bath INTEGER,\n",
    "    price REAL,\n",
    "    location TEXT,\n",
    "    bhk INTEGER\n",
    ");\n",
    "\n",
    "-- Create table for predictions\n",
    "CREATE TABLE predictions (\n",
    "    id INTEGER PRIMARY KEY AUTOINCREMENT,\n",
    "    location TEXT,\n",
    "    total_sqft REAL,\n",
    "    bath INTEGER,\n",
    "    bhk INTEGER,\n",
    "    predicted_price REAL\n",
    ");\n",
    "\n",
    "-- Insert sample data into housing_data\n",
    "INSERT INTO housing_data (total_sqft, bath, price, location, bhk) VALUES\n",
    "(1056.0, 2, 39.07, 'alandi road', 2),\n",
    "(2894.0, 4, 245.00, 'alandi road', 4),\n",
    "(1084.0, 2, 50.00, 'alandi road', 2),\n",
    "(1000.0, 2, 25.00, 'alandi road', 2),\n",
    "(1230.0, 2, 80.00, 'alandi road', 2);\n",
    "\n",
    "-- Insert sample data into predictions\n",
    "INSERT INTO predictions (location, total_sqft, bath, bhk, predicted_price) VALUES\n",
    "('pashan', 1200, 2, 2, 100.00),\n",
    "('alandi road', 1056, 2, 2, 39.07),\n",
    "('pashan', 1500, 3, 3, 120.00);\n",
    "\"\"\"\n",
    "\n",
    "# Write the SQL code to a file\n",
    "with open('schema_and_sample_data.sql', 'w') as file:\n",
    "    file.write(sql_code)\n",
    "\n",
    "print(\"SQL file 'schema_and_sample_data.sql' has been created.\")"
   ]
  }
 ],
 "metadata": {
  "kernelspec": {
   "display_name": "Python 3 (ipykernel)",
   "language": "python",
   "name": "python3"
  },
  "language_info": {
   "codemirror_mode": {
    "name": "ipython",
    "version": 3
   },
   "file_extension": ".py",
   "mimetype": "text/x-python",
   "name": "python",
   "nbconvert_exporter": "python",
   "pygments_lexer": "ipython3",
   "version": "3.9.13"
  }
 },
 "nbformat": 4,
 "nbformat_minor": 5
}
